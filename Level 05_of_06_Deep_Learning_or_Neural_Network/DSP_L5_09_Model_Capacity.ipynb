{
 "cells": [
  {
   "cell_type": "markdown",
   "metadata": {},
   "source": [
    "# Model Capacity\n",
    "-------------------------------\n",
    "1. How much wider and deeper networks are good?\n",
    "    - Workflow for optimizing model capacity\n",
    "        - Start with a small network\n",
    "        - Gradually increase capacity\n",
    "        - Keep increasing capacity until validation score is no longer Improving"
   ]
  },
  {
   "cell_type": "markdown",
   "metadata": {},
   "source": [
    "| Hidden Layers | \tNodes Per Layer | \tMean Squared Error\t| Next Step |\n",
    "| ---- | ------ | ---- | ------ |\n",
    "| 1 | \t100 |\t5.4 |\tIncrease Capacity |\n",
    "| 1 |\t250\t | 4.8\t | Increase Capacity |\n",
    "| 2\t| 250 |\t4.4\t| Increase Capacity |\n",
    "| 3 |\t250\t | 4.5\t| **Decrease Capacity** |\n",
    "| 3\t| 200\t| 4.3\t| Done |"
   ]
  },
  {
   "cell_type": "markdown",
   "metadata": {},
   "source": [
    "2.\tIf we are not checking as shown above ,there is a chance to overfit the model\n",
    "![Fit image](https://github.com/rritec/datahexa/blob/dev/images/dl/fit.png?raw=true)"
   ]
  },
  {
   "cell_type": "markdown",
   "metadata": {},
   "source": []
  },
  {
   "cell_type": "code",
   "execution_count": null,
   "metadata": {},
   "outputs": [],
   "source": []
  }
 ],
 "metadata": {
  "kernelspec": {
   "display_name": "Python 3",
   "language": "python",
   "name": "python3"
  },
  "language_info": {
   "codemirror_mode": {
    "name": "ipython",
    "version": 3
   },
   "file_extension": ".py",
   "mimetype": "text/x-python",
   "name": "python",
   "nbconvert_exporter": "python",
   "pygments_lexer": "ipython3",
   "version": "3.6.9"
  }
 },
 "nbformat": 4,
 "nbformat_minor": 4
}

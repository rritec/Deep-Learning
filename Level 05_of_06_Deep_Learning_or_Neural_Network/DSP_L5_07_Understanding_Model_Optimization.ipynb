{
 "cells": [
  {
   "cell_type": "markdown",
   "metadata": {},
   "source": [
    "# `Model Optimization` (Learning Rate)\n",
    "----\n",
    "1. Why optimization is hard in deep learning ?\n",
    "    - Simultaneously optimizing 1000s of parameters with complex relationships\n",
    "    - Updates may not improve model meaningfully\n",
    "    - Updates too small (if learning rate is low) or too large (if learning rate is high)\n",
    "- **Scenario:** Try to optimize a model at a very low learning rate, a very high learning rate, and a `just right` learning rate.\n",
    "- We need to look at the results after running this exercise, `remembering that a low value for the loss function is good `"
   ]
  },
  {
   "cell_type": "markdown",
   "metadata": {},
   "source": [
    "## Exercise 1: Let us optimize using <code> Stochastic Gradient Descent</code>"
   ]
  },
  {
   "cell_type": "markdown",
   "metadata": {},
   "source": [
    "### Step 1 of 3: Get Data"
   ]
  },
  {
   "cell_type": "code",
   "execution_count": 1,
   "metadata": {},
   "outputs": [
    {
     "name": "stderr",
     "output_type": "stream",
     "text": [
      "Using TensorFlow backend.\n"
     ]
    }
   ],
   "source": [
    "# Get data\n",
    "\n",
    "import pandas as pd\n",
    "from keras.utils import to_categorical\n",
    "\n",
    "df = pd.read_csv(\"titanic_all_numeric_train.csv\")\n",
    "X_train = df.drop(['survived'], axis=1).values\n",
    "y_train = to_categorical(df.survived)\n",
    "df = pd.read_csv(\"titanic_all_numeric_test.csv\")\n",
    "X_test= df.drop(['survived'], axis=1).values\n",
    "y_test = to_categorical(df.survived)"
   ]
  },
  {
   "cell_type": "code",
   "execution_count": 2,
   "metadata": {},
   "outputs": [],
   "source": [
    "n_features=X_train.shape[1]"
   ]
  },
  {
   "cell_type": "code",
   "execution_count": 3,
   "metadata": {},
   "outputs": [
    {
     "data": {
      "text/plain": [
       "10"
      ]
     },
     "execution_count": 3,
     "metadata": {},
     "output_type": "execute_result"
    }
   ],
   "source": [
    "n_features"
   ]
  },
  {
   "cell_type": "markdown",
   "metadata": {},
   "source": [
    "### Step 2 of 3: Create model as a function to loop from starting"
   ]
  },
  {
   "cell_type": "code",
   "execution_count": 4,
   "metadata": {},
   "outputs": [],
   "source": [
    "def get_new_model(input_dim = n_features):\n",
    "    model = Sequential()\n",
    "    model.add(Dense(100, activation='relu', input_dim = n_features)) # 1 hidden + 1 Input layer\n",
    "    model.add(Dense(100, activation='relu')) # 2nd hidden layer\n",
    "    model.add(Dense(2, activation='softmax')) # output layer\n",
    "    return(model)"
   ]
  },
  {
   "cell_type": "markdown",
   "metadata": {},
   "source": [
    "### Step 3 of 3: Changing optimization parameters"
   ]
  },
  {
   "cell_type": "code",
   "execution_count": 5,
   "metadata": {},
   "outputs": [],
   "source": [
    "# Import the SGD optimizer\n",
    "from keras.models import  Sequential\n",
    "from keras.layers import Dense\n",
    "from keras.optimizers import SGD"
   ]
  },
  {
   "cell_type": "code",
   "execution_count": 6,
   "metadata": {},
   "outputs": [],
   "source": [
    "# Create list of learning rates: lr_to_test\n",
    "lr_to_test = [.000001, 0.01, 1]"
   ]
  },
  {
   "cell_type": "code",
   "execution_count": 7,
   "metadata": {},
   "outputs": [
    {
     "name": "stderr",
     "output_type": "stream",
     "text": [
      "WARNING: Logging before flag parsing goes to stderr.\n",
      "W0221 11:20:44.204159  2204 deprecation_wrapper.py:119] From C:\\Users\\ramreddymyla\\Anaconda3\\envs\\dl\\lib\\site-packages\\keras\\backend\\tensorflow_backend.py:74: The name tf.get_default_graph is deprecated. Please use tf.compat.v1.get_default_graph instead.\n",
      "\n",
      "W0221 11:20:44.232422  2204 deprecation_wrapper.py:119] From C:\\Users\\ramreddymyla\\Anaconda3\\envs\\dl\\lib\\site-packages\\keras\\backend\\tensorflow_backend.py:517: The name tf.placeholder is deprecated. Please use tf.compat.v1.placeholder instead.\n",
      "\n",
      "W0221 11:20:44.239310  2204 deprecation_wrapper.py:119] From C:\\Users\\ramreddymyla\\Anaconda3\\envs\\dl\\lib\\site-packages\\keras\\backend\\tensorflow_backend.py:4138: The name tf.random_uniform is deprecated. Please use tf.random.uniform instead.\n",
      "\n",
      "W0221 11:20:44.332760  2204 deprecation_wrapper.py:119] From C:\\Users\\ramreddymyla\\Anaconda3\\envs\\dl\\lib\\site-packages\\keras\\optimizers.py:790: The name tf.train.Optimizer is deprecated. Please use tf.compat.v1.train.Optimizer instead.\n",
      "\n",
      "W0221 11:20:44.349716  2204 deprecation_wrapper.py:119] From C:\\Users\\ramreddymyla\\Anaconda3\\envs\\dl\\lib\\site-packages\\keras\\backend\\tensorflow_backend.py:3295: The name tf.log is deprecated. Please use tf.math.log instead.\n",
      "\n"
     ]
    },
    {
     "name": "stdout",
     "output_type": "stream",
     "text": [
      "\n",
      "\n",
      "\n",
      "Testing model with learning rate: 1e-06\n",
      "\n",
      "\n"
     ]
    },
    {
     "name": "stderr",
     "output_type": "stream",
     "text": [
      "W0221 11:20:44.550151  2204 deprecation.py:323] From C:\\Users\\ramreddymyla\\Anaconda3\\envs\\dl\\lib\\site-packages\\tensorflow\\python\\ops\\math_grad.py:1250: add_dispatch_support.<locals>.wrapper (from tensorflow.python.ops.array_ops) is deprecated and will be removed in a future version.\n",
      "Instructions for updating:\n",
      "Use tf.where in 2.0, which has the same broadcast rule as np.where\n",
      "W0221 11:20:44.675930  2204 deprecation_wrapper.py:119] From C:\\Users\\ramreddymyla\\Anaconda3\\envs\\dl\\lib\\site-packages\\keras\\backend\\tensorflow_backend.py:986: The name tf.assign_add is deprecated. Please use tf.compat.v1.assign_add instead.\n",
      "\n"
     ]
    },
    {
     "name": "stdout",
     "output_type": "stream",
     "text": [
      "Epoch 1/10\n",
      "891/891 [==============================] - 0s 523us/step - loss: 1.1244 - acc: 0.6162\n",
      "Epoch 2/10\n",
      "891/891 [==============================] - 0s 66us/step - loss: 1.0989 - acc: 0.6162\n",
      "Epoch 3/10\n",
      "891/891 [==============================] - 0s 65us/step - loss: 1.0742 - acc: 0.6162\n",
      "Epoch 4/10\n",
      "891/891 [==============================] - 0s 56us/step - loss: 1.0507 - acc: 0.6162\n",
      "Epoch 5/10\n",
      "891/891 [==============================] - 0s 67us/step - loss: 1.0281 - acc: 0.6162\n",
      "Epoch 6/10\n",
      "891/891 [==============================] - 0s 56us/step - loss: 1.0065 - acc: 0.6162\n",
      "Epoch 7/10\n",
      "891/891 [==============================] - 0s 66us/step - loss: 0.9853 - acc: 0.6162\n",
      "Epoch 8/10\n",
      "891/891 [==============================] - 0s 68us/step - loss: 0.9613 - acc: 0.6173\n",
      "Epoch 9/10\n",
      "891/891 [==============================] - 0s 69us/step - loss: 0.9382 - acc: 0.6184\n",
      "Epoch 10/10\n",
      "891/891 [==============================] - 0s 62us/step - loss: 0.9164 - acc: 0.6263\n",
      "\n",
      "\n",
      "\n",
      "Testing model with learning rate: 0.01\n",
      "\n",
      "\n",
      "Epoch 1/10\n",
      "891/891 [==============================] - 1s 641us/step - loss: 2.0252 - acc: 0.6083\n",
      "Epoch 2/10\n",
      "891/891 [==============================] - 0s 72us/step - loss: 0.6801 - acc: 0.6689\n",
      "Epoch 3/10\n",
      "891/891 [==============================] - 0s 53us/step - loss: 0.7191 - acc: 0.6543\n",
      "Epoch 4/10\n",
      "891/891 [==============================] - 0s 59us/step - loss: 0.6140 - acc: 0.6891\n",
      "Epoch 5/10\n",
      "891/891 [==============================] - 0s 76us/step - loss: 0.6069 - acc: 0.6813\n",
      "Epoch 6/10\n",
      "891/891 [==============================] - 0s 66us/step - loss: 0.6111 - acc: 0.6902\n",
      "Epoch 7/10\n",
      "891/891 [==============================] - 0s 59us/step - loss: 0.5802 - acc: 0.6902\n",
      "Epoch 8/10\n",
      "891/891 [==============================] - 0s 49us/step - loss: 0.5828 - acc: 0.7059\n",
      "Epoch 9/10\n",
      "891/891 [==============================] - 0s 60us/step - loss: 0.5959 - acc: 0.6925\n",
      "Epoch 10/10\n",
      "891/891 [==============================] - 0s 54us/step - loss: 0.5867 - acc: 0.7003\n",
      "\n",
      "\n",
      "\n",
      "Testing model with learning rate: 1\n",
      "\n",
      "\n",
      "Epoch 1/10\n",
      "891/891 [==============================] - 0s 522us/step - loss: 9.5756 - acc: 0.3984\n",
      "Epoch 2/10\n",
      "891/891 [==============================] - 0s 84us/step - loss: 9.9314 - acc: 0.3838\n",
      "Epoch 3/10\n",
      "891/891 [==============================] - 0s 59us/step - loss: 9.9314 - acc: 0.3838\n",
      "Epoch 4/10\n",
      "891/891 [==============================] - 0s 66us/step - loss: 9.9314 - acc: 0.3838\n",
      "Epoch 5/10\n",
      "891/891 [==============================] - 0s 65us/step - loss: 9.9314 - acc: 0.3838\n",
      "Epoch 6/10\n",
      "891/891 [==============================] - 0s 55us/step - loss: 9.9314 - acc: 0.3838\n",
      "Epoch 7/10\n",
      "891/891 [==============================] - 0s 64us/step - loss: 9.9314 - acc: 0.3838\n",
      "Epoch 8/10\n",
      "891/891 [==============================] - 0s 69us/step - loss: 9.9314 - acc: 0.3838\n",
      "Epoch 9/10\n",
      "891/891 [==============================] - 0s 51us/step - loss: 9.9314 - acc: 0.3838\n",
      "Epoch 10/10\n",
      "891/891 [==============================] - 0s 76us/step - loss: 9.9314 - acc: 0.3838\n"
     ]
    }
   ],
   "source": [
    "# Loop over learning rates\n",
    "for lr in lr_to_test:\n",
    "    print(f'\\n\\n\\nTesting model with learning rate: {lr}\\n\\n' )    \n",
    "    # Build new model to test, unaffected by previous models\n",
    "    model = get_new_model()    \n",
    "    # Create SGD optimizer with specified learning rate: my_optimizer\n",
    "    my_optimizer = SGD(lr=lr)    \n",
    "    # Compile the model\n",
    "    model.compile(optimizer=my_optimizer, \n",
    "                  loss='categorical_crossentropy', \n",
    "                  metrics=['accuracy'])    \n",
    "    # Fit the model\n",
    "    model.fit(X_train, y_train,epochs=10,verbose=1)"
   ]
  },
  {
   "cell_type": "markdown",
   "metadata": {},
   "source": [
    "1. By observing above result which learning rate is good ?\n",
    "    \n",
    "    - <input type=\"radio\" disabled> 0.000001\n",
    "    - <input type=\"radio\" disabled checked> 0.01\n",
    "    - <input type=\"radio\" disabled> 1\n",
    "    - <input type=\"radio\" disabled> None of the above\n",
    "\n"
   ]
  },
  {
   "cell_type": "markdown",
   "metadata": {},
   "source": [
    "2. Which of the following could prevent a model from showing an improved loss in its `first few epochs`?\n",
    "\n",
    "    - <input type=\"radio\" disabled> Learning rate too low\n",
    "    - <input type=\"radio\" disabled> Learning rate too high\n",
    "    - <input type=\"radio\" disabled> Poor choice of activation function\n",
    "    - <input type=\"radio\" disabled checked> All of the above\n",
    "\n"
   ]
  },
  {
   "cell_type": "code",
   "execution_count": null,
   "metadata": {
    "collapsed": true,
    "jupyter": {
     "outputs_hidden": true
    }
   },
   "outputs": [],
   "source": []
  }
 ],
 "metadata": {
  "kernelspec": {
   "display_name": "Python 3",
   "language": "python",
   "name": "python3"
  },
  "language_info": {
   "codemirror_mode": {
    "name": "ipython",
    "version": 3
   },
   "file_extension": ".py",
   "mimetype": "text/x-python",
   "name": "python",
   "nbconvert_exporter": "python",
   "pygments_lexer": "ipython3",
   "version": "3.6.9"
  }
 },
 "nbformat": 4,
 "nbformat_minor": 4
}

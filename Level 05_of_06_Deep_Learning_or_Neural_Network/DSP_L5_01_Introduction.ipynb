{
 "cells": [
  {
   "cell_type": "markdown",
   "metadata": {},
   "source": [
    "# Deep Learning Introduction\n",
    "----\n",
    "\n",
    "## 1. Introduction\n",
    "- Deep learning is a machine learning technique that teaches computers to do what comes naturally to humans: `learn by example`\n",
    " ![image.png](https://github.com/rritec/datahexa/blob/master/images/Mentor_dl.jpg?raw=true)\n",
    " \n",
    " \n",
    "- Most deep learning methods use **neural network** architectures, which is why deep learning models are often referred to as **deep neural networks**.\n",
    "- The term “deep” usually refers to the number of hidden layers in the neural network. Traditional neural networks only contain 2-3 hidden layers, while deep networks can have as many as required.\n",
    "- Deep learning models are trained by using large sets of labelled data and neural network architectures that learn features directly from the data without the need for manual feature extraction.\n",
    "![nn](https://github.com/rritec/datahexa/blob/dev/images/dl/dl1.png?raw=true)"
   ]
  },
  {
   "cell_type": "markdown",
   "metadata": {},
   "source": [
    "## 2. Examples of Deep Learning at Work\n",
    "- Deep learning applications are used in industries from automated driving to medical devices.\n",
    "- Automated Driving: Automotive researchers are using deep learning to automatically detect objects such as stop signs and traffic lights. In addition, deep learning is used to detect pedestrians, which helps decrease accidents.\n",
    "- Aerospace and Defence: Deep learning is used to identify objects from satellites that locate areas of interest, and identify safe or unsafe zones for troops.\n",
    "- Medical Research: Cancer researchers are using deep learning to automatically detect cancer cells. Teams at UCLA built an advanced microscope that yields a high-dimensional data set used to train a deep learning application to accurately identify cancer cells.\n",
    "- Industrial Automation: Deep learning is helping to improve worker safety around heavy machinery by automatically detecting when people or objects are within an unsafe distance of machines.\n",
    "- Electronics: Deep learning is being used in automated hearing and speech translation. For example, home assistance devices that respond to your voice and know your preferences are powered by deep learning applications.\n"
   ]
  },
  {
   "cell_type": "markdown",
   "metadata": {},
   "source": [
    "## 3. Forward Propagation"
   ]
  },
  {
   "cell_type": "markdown",
   "metadata": {},
   "source": [
    "![Forward Propagation](https://github.com/rritec/datahexa/blob/dev/images/dl/dl2.png?raw=true)"
   ]
  },
  {
   "cell_type": "code",
   "execution_count": 2,
   "metadata": {},
   "outputs": [],
   "source": [
    "import numpy as np"
   ]
  },
  {
   "cell_type": "code",
   "execution_count": 3,
   "metadata": {},
   "outputs": [],
   "source": [
    "input_np_array = np.array([2,3])"
   ]
  },
  {
   "cell_type": "code",
   "execution_count": 4,
   "metadata": {},
   "outputs": [
    {
     "data": {
      "text/plain": [
       "array([2, 3])"
      ]
     },
     "execution_count": 4,
     "metadata": {},
     "output_type": "execute_result"
    }
   ],
   "source": [
    "input_np_array"
   ]
  },
  {
   "cell_type": "code",
   "execution_count": 5,
   "metadata": {},
   "outputs": [],
   "source": [
    "#define dict of weights\n",
    "# randomly we will assign some weights\n",
    "weights = {\"node0\":np.array([1,1]),\n",
    "           \"node1\":np.array([-1,1]),\n",
    "          \"output_node\":np.array([2,-1])}"
   ]
  },
  {
   "cell_type": "code",
   "execution_count": 6,
   "metadata": {},
   "outputs": [
    {
     "data": {
      "text/plain": [
       "{'node0': array([1, 1]),\n",
       " 'node1': array([-1,  1]),\n",
       " 'output_node': array([ 2, -1])}"
      ]
     },
     "execution_count": 6,
     "metadata": {},
     "output_type": "execute_result"
    }
   ],
   "source": [
    "weights"
   ]
  },
  {
   "cell_type": "code",
   "execution_count": 7,
   "metadata": {},
   "outputs": [
    {
     "data": {
      "text/plain": [
       "array([1, 1])"
      ]
     },
     "execution_count": 7,
     "metadata": {},
     "output_type": "execute_result"
    }
   ],
   "source": [
    "weights[\"node0\"]"
   ]
  },
  {
   "cell_type": "code",
   "execution_count": 8,
   "metadata": {},
   "outputs": [],
   "source": [
    "node0_value = (input_np_array * weights[\"node0\"]).sum()"
   ]
  },
  {
   "cell_type": "code",
   "execution_count": 9,
   "metadata": {},
   "outputs": [
    {
     "data": {
      "text/plain": [
       "5"
      ]
     },
     "execution_count": 9,
     "metadata": {},
     "output_type": "execute_result"
    }
   ],
   "source": [
    "node0_value "
   ]
  },
  {
   "cell_type": "code",
   "execution_count": 10,
   "metadata": {},
   "outputs": [],
   "source": [
    "node1_value = (input_np_array * weights[\"node1\"]).sum()"
   ]
  },
  {
   "cell_type": "code",
   "execution_count": 11,
   "metadata": {},
   "outputs": [
    {
     "data": {
      "text/plain": [
       "1"
      ]
     },
     "execution_count": 11,
     "metadata": {},
     "output_type": "execute_result"
    }
   ],
   "source": [
    "node1_value"
   ]
  },
  {
   "cell_type": "code",
   "execution_count": 12,
   "metadata": {},
   "outputs": [],
   "source": [
    "hidden_layer = np.array([node0_value,node1_value])"
   ]
  },
  {
   "cell_type": "code",
   "execution_count": 13,
   "metadata": {},
   "outputs": [
    {
     "data": {
      "text/plain": [
       "array([5, 1])"
      ]
     },
     "execution_count": 13,
     "metadata": {},
     "output_type": "execute_result"
    }
   ],
   "source": [
    "hidden_layer"
   ]
  },
  {
   "cell_type": "code",
   "execution_count": 14,
   "metadata": {},
   "outputs": [],
   "source": [
    "final_output = (hidden_layer * weights[\"output_node\"]).sum()"
   ]
  },
  {
   "cell_type": "code",
   "execution_count": 15,
   "metadata": {},
   "outputs": [
    {
     "data": {
      "text/plain": [
       "9"
      ]
     },
     "execution_count": 15,
     "metadata": {},
     "output_type": "execute_result"
    }
   ],
   "source": [
    "final_output"
   ]
  },
  {
   "cell_type": "markdown",
   "metadata": {},
   "source": [
    "## 4. Activation functions"
   ]
  },
  {
   "cell_type": "markdown",
   "metadata": {},
   "source": [
    "- These are two types\n",
    "    - Linear \n",
    "    - Non linear\n",
    "![Forward Propagation](https://github.com/rritec/datahexa/blob/dev/images/dl/dl3.png?raw=true)\n",
    "- The Main activate functions are\n",
    "    - Linear Function\n",
    "    - Sigmoid\n",
    "    - Tanh\n",
    "    - ReLu\n",
    "    - Softmax\n",
    "    \n",
    "- [Must read 1](https://www.geeksforgeeks.org/activation-functions-neural-networks/)\n",
    "- [Must read 2](https://medium.com/the-theory-of-everything/understanding-activation-functions-in-neural-networks-9491262884e0)\n"
   ]
  },
  {
   "cell_type": "markdown",
   "metadata": {},
   "source": [
    "## 5. Apply Activation function to hidden node inputs to produce node output"
   ]
  },
  {
   "cell_type": "code",
   "execution_count": 1,
   "metadata": {},
   "outputs": [],
   "source": [
    "import numpy as np"
   ]
  },
  {
   "cell_type": "code",
   "execution_count": 10,
   "metadata": {},
   "outputs": [
    {
     "data": {
      "text/plain": [
       "array([2, 3])"
      ]
     },
     "execution_count": 10,
     "metadata": {},
     "output_type": "execute_result"
    }
   ],
   "source": [
    "input_data = np.array([2, 3])\n",
    "input_data"
   ]
  },
  {
   "cell_type": "code",
   "execution_count": 11,
   "metadata": {},
   "outputs": [
    {
     "data": {
      "text/plain": [
       "{'node_0': array([1, 1]), 'node_1': array([-1,  1]), 'output': array([ 2, -1])}"
      ]
     },
     "execution_count": 11,
     "metadata": {},
     "output_type": "execute_result"
    }
   ],
   "source": [
    "weights = {'node_0': np.array([1, 1]),\n",
    "           'node_1': np.array([-1, 1]),\n",
    "           'output': np.array([2, -1])}\n",
    "weights"
   ]
  },
  {
   "cell_type": "code",
   "execution_count": 4,
   "metadata": {},
   "outputs": [
    {
     "data": {
      "text/plain": [
       "5"
      ]
     },
     "execution_count": 4,
     "metadata": {},
     "output_type": "execute_result"
    }
   ],
   "source": [
    "node_0_input = (input_data * weights['node_0']).sum()\n",
    "node_0_input"
   ]
  },
  {
   "cell_type": "code",
   "execution_count": 5,
   "metadata": {},
   "outputs": [
    {
     "data": {
      "text/plain": [
       "0.9999092042625951"
      ]
     },
     "execution_count": 5,
     "metadata": {},
     "output_type": "execute_result"
    }
   ],
   "source": [
    "node_0_output = np.tanh(node_0_input)\n",
    "node_0_output"
   ]
  },
  {
   "cell_type": "code",
   "execution_count": 6,
   "metadata": {},
   "outputs": [
    {
     "data": {
      "text/plain": [
       "1"
      ]
     },
     "execution_count": 6,
     "metadata": {},
     "output_type": "execute_result"
    }
   ],
   "source": [
    "node_1_input = (input_data * weights['node_1']).sum()\n",
    "node_1_input"
   ]
  },
  {
   "cell_type": "code",
   "execution_count": 7,
   "metadata": {},
   "outputs": [
    {
     "data": {
      "text/plain": [
       "0.7615941559557649"
      ]
     },
     "execution_count": 7,
     "metadata": {},
     "output_type": "execute_result"
    }
   ],
   "source": [
    "node_1_output = np.tanh(node_1_input)\n",
    "node_1_output"
   ]
  },
  {
   "cell_type": "code",
   "execution_count": 8,
   "metadata": {},
   "outputs": [
    {
     "data": {
      "text/plain": [
       "array([0.9999092 , 0.76159416])"
      ]
     },
     "execution_count": 8,
     "metadata": {},
     "output_type": "execute_result"
    }
   ],
   "source": [
    "hidden_layer_output = np.array([node_0_output, node_1_output])\n",
    "hidden_layer_output"
   ]
  },
  {
   "cell_type": "code",
   "execution_count": 9,
   "metadata": {},
   "outputs": [
    {
     "name": "stdout",
     "output_type": "stream",
     "text": [
      "1.2382242525694254\n"
     ]
    }
   ],
   "source": [
    "output = (hidden_layer_output * weights['output']).sum()\n",
    "print(output)"
   ]
  },
  {
   "cell_type": "markdown",
   "metadata": {},
   "source": [
    "## 6. Deeper Network Using Activation Function as ReLu"
   ]
  },
  {
   "cell_type": "markdown",
   "metadata": {},
   "source": [
    "- ReLU (Rectified Linear Activation).\n",
    "![Forward Propagation](https://github.com/rritec/datahexa/blob/dev/images/dl/dl4.png?raw=true)"
   ]
  },
  {
   "cell_type": "markdown",
   "metadata": {},
   "source": [
    "## 7. Multiple hidded layers "
   ]
  },
  {
   "cell_type": "markdown",
   "metadata": {},
   "source": [
    "![Forward Propagation](https://github.com/rritec/datahexa/blob/dev/images/dl/dl7.png?raw=true)"
   ]
  },
  {
   "cell_type": "markdown",
   "metadata": {},
   "source": [
    "> How many hidden layers are available in above diagram?"
   ]
  },
  {
   "cell_type": "code",
   "execution_count": 12,
   "metadata": {},
   "outputs": [
    {
     "data": {
      "text/plain": [
       "array([3, 5])"
      ]
     },
     "execution_count": 12,
     "metadata": {},
     "output_type": "execute_result"
    }
   ],
   "source": [
    "import numpy as np\n",
    "input_data = np.array([3, 5])\n",
    "input_data"
   ]
  },
  {
   "cell_type": "code",
   "execution_count": 13,
   "metadata": {},
   "outputs": [
    {
     "data": {
      "text/plain": [
       "{'node_0': array([2, 4]),\n",
       " 'node_1': array([ 4, -5]),\n",
       " 'node_2': array([-1,  1]),\n",
       " 'node_3': array([2, 2]),\n",
       " 'output': array([-3,  7])}"
      ]
     },
     "execution_count": 13,
     "metadata": {},
     "output_type": "execute_result"
    }
   ],
   "source": [
    "\n",
    "weights = {'node_0': np.array([2, 4]), \n",
    "           'node_1': np.array([4, -5]),\n",
    "           'node_2': np.array([-1, 1]), \n",
    "           'node_3': np.array([2, 2]),\n",
    "           'output': np.array([-3, 7])}\n",
    "weights"
   ]
  },
  {
   "cell_type": "code",
   "execution_count": 14,
   "metadata": {},
   "outputs": [
    {
     "name": "stdout",
     "output_type": "stream",
     "text": [
      "node_0_output :  26\n",
      "node_0_output_relu :  26\n"
     ]
    }
   ],
   "source": [
    "node_0_output = (input_data * weights['node_0']).sum()\n",
    "print(\"node_0_output : \",node_0_output)\n",
    "node_0_output_relu = np.maximum(node_0_output,0)\n",
    "print(\"node_0_output_relu : \",node_0_output_relu)"
   ]
  },
  {
   "cell_type": "code",
   "execution_count": 16,
   "metadata": {},
   "outputs": [
    {
     "name": "stdout",
     "output_type": "stream",
     "text": [
      "node_1_output :  -13\n",
      "node_1_output_relu :  0\n"
     ]
    }
   ],
   "source": [
    "node_1_output = (input_data * weights['node_1']).sum()\n",
    "print(\"node_1_output : \",node_1_output)\n",
    "node_1_output_relu = np.maximum(node_1_output,0)\n",
    "print(\"node_1_output_relu : \",node_1_output_relu)"
   ]
  },
  {
   "cell_type": "code",
   "execution_count": 18,
   "metadata": {},
   "outputs": [
    {
     "name": "stdout",
     "output_type": "stream",
     "text": [
      "hidden_layer1_output :  [26  0]\n"
     ]
    }
   ],
   "source": [
    "hidden_layer1_output = np.array([node_0_output_relu, node_1_output_relu])\n",
    "print(\"hidden_layer1_output : \",hidden_layer1_output)"
   ]
  },
  {
   "cell_type": "code",
   "execution_count": 23,
   "metadata": {},
   "outputs": [
    {
     "name": "stdout",
     "output_type": "stream",
     "text": [
      "node_2_output :  -26\n",
      "node_2_output_relu :  0\n"
     ]
    }
   ],
   "source": [
    "node_2_output = (hidden_layer1_output * weights['node_2']).sum()\n",
    "print(\"node_2_output : \",node_2_output)\n",
    "node_2_output_relu = np.maximum(node_2_output,0)\n",
    "print(\"node_2_output_relu : \",node_2_output_relu)"
   ]
  },
  {
   "cell_type": "code",
   "execution_count": 24,
   "metadata": {},
   "outputs": [
    {
     "name": "stdout",
     "output_type": "stream",
     "text": [
      "node_3_output :  52\n",
      "node_3_output_relu :  52\n"
     ]
    }
   ],
   "source": [
    "node_3_output = (hidden_layer1_output * weights['node_3']).sum()\n",
    "print(\"node_3_output : \",node_3_output)\n",
    "node_3_output_relu = np.maximum(node_3_output,0)\n",
    "print(\"node_3_output_relu : \",node_3_output_relu)"
   ]
  },
  {
   "cell_type": "code",
   "execution_count": 25,
   "metadata": {},
   "outputs": [
    {
     "name": "stdout",
     "output_type": "stream",
     "text": [
      "hidden_layer2_output :  [ 0 52]\n"
     ]
    }
   ],
   "source": [
    "hidden_layer2_output = np.array([node_2_output_relu, node_3_output_relu])\n",
    "print(\"hidden_layer2_output : \",hidden_layer2_output)"
   ]
  },
  {
   "cell_type": "code",
   "execution_count": 26,
   "metadata": {},
   "outputs": [
    {
     "name": "stdout",
     "output_type": "stream",
     "text": [
      "output :  364\n",
      "output_relu :  364\n"
     ]
    }
   ],
   "source": [
    "output = (hidden_layer2_output * weights['output']).sum()\n",
    "print(\"output : \",output)\n",
    "output_relu = np.maximum(output,0)\n",
    "print(\"output_relu : \",output_relu)"
   ]
  },
  {
   "cell_type": "markdown",
   "metadata": {},
   "source": [
    "> Find more ways in implementing [relu function](https://stackoverflow.com/questions/32109319/how-to-implement-the-relu-function-in-numpy)\n"
   ]
  },
  {
   "cell_type": "code",
   "execution_count": null,
   "metadata": {},
   "outputs": [],
   "source": []
  }
 ],
 "metadata": {
  "kernelspec": {
   "display_name": "Python 3",
   "language": "python",
   "name": "python3"
  },
  "language_info": {
   "codemirror_mode": {
    "name": "ipython",
    "version": 3
   },
   "file_extension": ".py",
   "mimetype": "text/x-python",
   "name": "python",
   "nbconvert_exporter": "python",
   "pygments_lexer": "ipython3",
   "version": "3.6.9"
  }
 },
 "nbformat": 4,
 "nbformat_minor": 4
}

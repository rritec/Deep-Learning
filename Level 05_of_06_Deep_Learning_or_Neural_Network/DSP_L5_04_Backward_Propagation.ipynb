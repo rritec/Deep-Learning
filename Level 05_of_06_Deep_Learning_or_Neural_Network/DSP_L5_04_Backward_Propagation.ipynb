{
 "cells": [
  {
   "cell_type": "markdown",
   "metadata": {},
   "source": [
    "# Backward Propagation\n",
    "-----------------------------\n",
    "\n",
    "- Update weights using error and iterate till we meet actual target data\n",
    "\n",
    "![back propgation](https://github.com/rritec/datahexa/blob/dev/images/dl/dl8.png?raw=true)\n",
    "\n",
    "\n",
    "- Try to understand the process, however you will generally use a library that implements forward and backward propagations.\n",
    "- It is working based on chain rule of calculus"
   ]
  },
  {
   "cell_type": "markdown",
   "metadata": {
    "collapsed": true
   },
   "source": [
    "## 1. Learn Basic Formulas from calculas"
   ]
  },
  {
   "cell_type": "markdown",
   "metadata": {},
   "source": [
    "![basic form](https://github.com/rritec/datahexa/blob/dev/images/dl/dl9.png?raw=true)"
   ]
  },
  {
   "cell_type": "markdown",
   "metadata": {},
   "source": [
    "## 2. Chain Rule"
   ]
  },
  {
   "cell_type": "markdown",
   "metadata": {},
   "source": [
    "- If a variable z depends on the variable y, y variables depends on the variable x.We can say z depends on x . we can write chain rule as for below $\\frac {\\partial \\mathbf{Z}}{\\partial \\mathbf{X}} = \\frac {\\partial \\mathbf{Z}}{\\partial \\mathbf{Y}} * \\frac {\\partial \\mathbf{Y}}{\\partial \\mathbf{X}}$"
   ]
  },
  {
   "cell_type": "markdown",
   "metadata": {},
   "source": [
    "## 3. Find the derivative of sigmoid function   "
   ]
  },
  {
   "cell_type": "markdown",
   "metadata": {},
   "source": [
    "![basic form](https://github.com/rritec/datahexa/blob/dev/images/dl/dl11.png?raw=true)"
   ]
  },
  {
   "cell_type": "markdown",
   "metadata": {},
   "source": [
    "![basic form](https://github.com/rritec/datahexa/blob/dev/images/dl/dl12.png?raw=true)"
   ]
  },
  {
   "cell_type": "markdown",
   "metadata": {},
   "source": [
    "- [gradient calculation](https://revisionmaths.com/advanced-level-maths-revision/pure-maths/calculus/differentiation)\n",
    "- [Please refer maths of backpropagation](https://mattmazur.com/2015/03/17/a-step-by-step-backpropagation-example/)"
   ]
  },
  {
   "cell_type": "code",
   "execution_count": null,
   "metadata": {},
   "outputs": [],
   "source": []
  }
 ],
 "metadata": {
  "kernelspec": {
   "display_name": "Python 3",
   "language": "python",
   "name": "python3"
  },
  "language_info": {
   "codemirror_mode": {
    "name": "ipython",
    "version": 3
   },
   "file_extension": ".py",
   "mimetype": "text/x-python",
   "name": "python",
   "nbconvert_exporter": "python",
   "pygments_lexer": "ipython3",
   "version": "3.6.9"
  }
 },
 "nbformat": 4,
 "nbformat_minor": 2
}

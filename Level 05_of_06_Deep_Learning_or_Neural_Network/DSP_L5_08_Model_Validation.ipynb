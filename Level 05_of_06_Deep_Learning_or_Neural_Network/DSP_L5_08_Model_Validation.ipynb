{
 "cells": [
  {
   "cell_type": "markdown",
   "metadata": {},
   "source": [
    "# `Model Validation`\n",
    "---\n",
    "1. Validation in deep learning\n",
    "    - Commonly used validation is `split(Train and Test)` rather than `cross validation(K fold)`\n",
    "    - Deep learning widely used `on large datasets`\n",
    "    - Single validation score is based on large amount of data, and is `reliable`\n",
    "    - Repeated training from cross-validation would take `long time`"
   ]
  },
  {
   "cell_type": "markdown",
   "metadata": {},
   "source": [
    "## Exercise 1: Evaluating model accuracy on `validation dataset`"
   ]
  },
  {
   "cell_type": "code",
   "execution_count": 13,
   "metadata": {},
   "outputs": [],
   "source": [
    "# Get data\n",
    "import pandas as pd\n",
    "from keras.utils import to_categorical\n",
    "df = pd.read_csv(\"titanic_all_numeric_train.csv\")\n",
    "X_train = df.drop(['survived'], axis=1).values\n",
    "y_train = to_categorical(df.survived)\n",
    "df = pd.read_csv(\"titanic_all_numeric_test.csv\")\n",
    "X_test = df.drop(['survived'], axis=1).values\n",
    "\n",
    "# Save the number of columns in predictors: n_fetures\n",
    "n_fetures = X_train.shape[1]\n",
    "input_shape = (n_fetures,)"
   ]
  },
  {
   "cell_type": "code",
   "execution_count": 14,
   "metadata": {},
   "outputs": [],
   "source": [
    "from keras.models import Sequential\n",
    "from keras.layers import Dense"
   ]
  },
  {
   "cell_type": "code",
   "execution_count": 15,
   "metadata": {},
   "outputs": [
    {
     "name": "stdout",
     "output_type": "stream",
     "text": [
      "Train on 623 samples, validate on 268 samples\n",
      "Epoch 1/10\n",
      " - 1s - loss: 0.9258 - acc: 0.6228 - val_loss: 0.9234 - val_acc: 0.6455\n",
      "Epoch 2/10\n",
      " - 0s - loss: 0.7041 - acc: 0.6421 - val_loss: 0.5463 - val_acc: 0.7276\n",
      "Epoch 3/10\n",
      " - 0s - loss: 0.6659 - acc: 0.6517 - val_loss: 0.6496 - val_acc: 0.7239\n",
      "Epoch 4/10\n",
      " - 0s - loss: 0.7605 - acc: 0.6806 - val_loss: 0.5486 - val_acc: 0.7351\n",
      "Epoch 5/10\n",
      " - 0s - loss: 0.6049 - acc: 0.6806 - val_loss: 0.5969 - val_acc: 0.7500\n",
      "Epoch 6/10\n",
      " - 0s - loss: 0.6362 - acc: 0.6854 - val_loss: 0.5491 - val_acc: 0.7500\n",
      "Epoch 7/10\n",
      " - 0s - loss: 0.6095 - acc: 0.7063 - val_loss: 0.5336 - val_acc: 0.7799\n",
      "Epoch 8/10\n",
      " - 0s - loss: 0.6931 - acc: 0.6886 - val_loss: 0.5068 - val_acc: 0.7425\n",
      "Epoch 9/10\n",
      " - 0s - loss: 0.6125 - acc: 0.6934 - val_loss: 0.5036 - val_acc: 0.7948\n",
      "Epoch 10/10\n",
      " - 0s - loss: 0.5787 - acc: 0.7014 - val_loss: 0.5622 - val_acc: 0.7948\n"
     ]
    }
   ],
   "source": [
    "# Specify the model\n",
    "model = Sequential()\n",
    "model.add(Dense(100, activation='relu', input_shape = input_shape))\n",
    "model.add(Dense(100, activation='relu'))\n",
    "model.add(Dense(2, activation='softmax'))\n",
    "# Compile the model\n",
    "model.compile(optimizer='adam', \n",
    "              loss='categorical_crossentropy'\n",
    "              ,metrics=['accuracy'])\n",
    "# Fit the model\n",
    "hist = model.fit(X_train,\n",
    "                 y_train, \n",
    "                 validation_split=0.3,\n",
    "                epochs=10,verbose = 2)"
   ]
  },
  {
   "cell_type": "code",
   "execution_count": 16,
   "metadata": {},
   "outputs": [],
   "source": [
    "#model.fit?"
   ]
  },
  {
   "cell_type": "markdown",
   "metadata": {},
   "source": [
    "## Exercise 2: `Early stopping`, Optimizing the optimization"
   ]
  },
  {
   "cell_type": "code",
   "execution_count": 17,
   "metadata": {},
   "outputs": [],
   "source": [
    "# Import EarlyStopping\n",
    "from keras.callbacks import EarlyStopping"
   ]
  },
  {
   "cell_type": "code",
   "execution_count": 18,
   "metadata": {},
   "outputs": [
    {
     "data": {
      "text/plain": [
       "\u001b[1;31mInit signature:\u001b[0m\n",
       "\u001b[0mEarlyStopping\u001b[0m\u001b[1;33m(\u001b[0m\u001b[1;33m\n",
       "\u001b[0m    \u001b[0mmonitor\u001b[0m\u001b[1;33m=\u001b[0m\u001b[1;34m'val_loss'\u001b[0m\u001b[1;33m,\u001b[0m\u001b[1;33m\n",
       "\u001b[0m    \u001b[0mmin_delta\u001b[0m\u001b[1;33m=\u001b[0m\u001b[1;36m0\u001b[0m\u001b[1;33m,\u001b[0m\u001b[1;33m\n",
       "\u001b[0m    \u001b[0mpatience\u001b[0m\u001b[1;33m=\u001b[0m\u001b[1;36m0\u001b[0m\u001b[1;33m,\u001b[0m\u001b[1;33m\n",
       "\u001b[0m    \u001b[0mverbose\u001b[0m\u001b[1;33m=\u001b[0m\u001b[1;36m0\u001b[0m\u001b[1;33m,\u001b[0m\u001b[1;33m\n",
       "\u001b[0m    \u001b[0mmode\u001b[0m\u001b[1;33m=\u001b[0m\u001b[1;34m'auto'\u001b[0m\u001b[1;33m,\u001b[0m\u001b[1;33m\n",
       "\u001b[0m    \u001b[0mbaseline\u001b[0m\u001b[1;33m=\u001b[0m\u001b[1;32mNone\u001b[0m\u001b[1;33m,\u001b[0m\u001b[1;33m\n",
       "\u001b[0m    \u001b[0mrestore_best_weights\u001b[0m\u001b[1;33m=\u001b[0m\u001b[1;32mFalse\u001b[0m\u001b[1;33m,\u001b[0m\u001b[1;33m\n",
       "\u001b[0m\u001b[1;33m)\u001b[0m\u001b[1;33m\u001b[0m\u001b[1;33m\u001b[0m\u001b[0m\n",
       "\u001b[1;31mDocstring:\u001b[0m     \n",
       "Stop training when a monitored quantity has stopped improving.\n",
       "\n",
       "# Arguments\n",
       "    monitor: quantity to be monitored.\n",
       "    min_delta: minimum change in the monitored quantity\n",
       "        to qualify as an improvement, i.e. an absolute\n",
       "        change of less than min_delta, will count as no\n",
       "        improvement.\n",
       "    patience: number of epochs with no improvement\n",
       "        after which training will be stopped.\n",
       "    verbose: verbosity mode.\n",
       "    mode: one of {auto, min, max}. In `min` mode,\n",
       "        training will stop when the quantity\n",
       "        monitored has stopped decreasing; in `max`\n",
       "        mode it will stop when the quantity\n",
       "        monitored has stopped increasing; in `auto`\n",
       "        mode, the direction is automatically inferred\n",
       "        from the name of the monitored quantity.\n",
       "    baseline: Baseline value for the monitored quantity to reach.\n",
       "        Training will stop if the model doesn't show improvement\n",
       "        over the baseline.\n",
       "    restore_best_weights: whether to restore model weights from\n",
       "        the epoch with the best value of the monitored quantity.\n",
       "        If False, the model weights obtained at the last step of\n",
       "        training are used.\n",
       "\u001b[1;31mFile:\u001b[0m           c:\\users\\ramreddymyla\\anaconda3\\envs\\dl\\lib\\site-packages\\keras\\callbacks.py\n",
       "\u001b[1;31mType:\u001b[0m           type\n",
       "\u001b[1;31mSubclasses:\u001b[0m     \n"
      ]
     },
     "metadata": {},
     "output_type": "display_data"
    }
   ],
   "source": [
    "EarlyStopping?"
   ]
  },
  {
   "cell_type": "code",
   "execution_count": 19,
   "metadata": {},
   "outputs": [
    {
     "name": "stdout",
     "output_type": "stream",
     "text": [
      "Train on 712 samples, validate on 179 samples\n",
      "Epoch 1/30\n",
      " - 2s - loss: 1.1015 - acc: 0.5871 - val_loss: 0.5960 - val_acc: 0.7263\n",
      "Epoch 2/30\n",
      " - 0s - loss: 0.6529 - acc: 0.6896 - val_loss: 0.5624 - val_acc: 0.7821\n",
      "Epoch 3/30\n",
      " - 0s - loss: 0.6022 - acc: 0.6910 - val_loss: 0.6070 - val_acc: 0.7151\n",
      "Epoch 4/30\n",
      " - 0s - loss: 0.6397 - acc: 0.6756 - val_loss: 0.5543 - val_acc: 0.7207\n",
      "Epoch 5/30\n",
      " - 0s - loss: 0.6286 - acc: 0.6798 - val_loss: 0.5726 - val_acc: 0.6704\n",
      "Epoch 6/30\n",
      " - 0s - loss: 0.6702 - acc: 0.6657 - val_loss: 0.5506 - val_acc: 0.7542\n",
      "Epoch 7/30\n",
      " - 0s - loss: 0.6475 - acc: 0.7051 - val_loss: 0.4764 - val_acc: 0.7430\n",
      "Epoch 8/30\n",
      " - 0s - loss: 0.6957 - acc: 0.6868 - val_loss: 0.4851 - val_acc: 0.7709\n",
      "Epoch 9/30\n",
      " - 0s - loss: 0.6205 - acc: 0.7191 - val_loss: 0.4485 - val_acc: 0.7709\n",
      "Epoch 10/30\n",
      " - 0s - loss: 0.5675 - acc: 0.6952 - val_loss: 0.4558 - val_acc: 0.7765\n",
      "Epoch 11/30\n",
      " - 0s - loss: 0.6015 - acc: 0.7163 - val_loss: 0.5479 - val_acc: 0.6983\n"
     ]
    },
    {
     "data": {
      "text/plain": [
       "<keras.callbacks.History at 0x24c85eee5f8>"
      ]
     },
     "execution_count": 19,
     "metadata": {},
     "output_type": "execute_result"
    }
   ],
   "source": [
    "# Specify the model\n",
    "model = Sequential()\n",
    "model.add(Dense(100, activation='relu', input_shape = input_shape))\n",
    "model.add(Dense(100, activation='relu'))\n",
    "model.add(Dense(2, activation='softmax'))\n",
    "# Compile the model\n",
    "model.compile(optimizer='adam', \n",
    "              loss='categorical_crossentropy', \n",
    "              metrics=['accuracy'])\n",
    "# Define early_stopping_monitor\n",
    "early_stopping_monitor = EarlyStopping(patience=2)\n",
    "# Fit the model\n",
    "model.fit(X_train, y_train, \n",
    "          epochs=30, \n",
    "          validation_split=0.2, \n",
    "          callbacks=[early_stopping_monitor],verbose=2)\n"
   ]
  },
  {
   "cell_type": "markdown",
   "metadata": {
    "toc-hr-collapsed": true
   },
   "source": [
    "## Exercise 3: Experimenting with `Wider Networks`"
   ]
  },
  {
   "cell_type": "markdown",
   "metadata": {},
   "source": [
    "### Create a model with `Less Nodes(example 10 nodes)`"
   ]
  },
  {
   "cell_type": "code",
   "execution_count": 20,
   "metadata": {},
   "outputs": [],
   "source": [
    "# Define early_stopping_monitor\n",
    "early_stopping_monitor = EarlyStopping(patience=2)\n",
    "# Create the new model: model_1\n",
    "model_1 = Sequential()\n",
    "# Add the first and second layers\n",
    "model_1.add(Dense(10, activation='relu', input_shape=input_shape))\n",
    "model_1.add(Dense(10, activation='relu'))\n",
    "# Add the output layer\n",
    "model_1.add(Dense(2, activation='softmax'))\n",
    "# Compile model_1\n",
    "model_1.compile(optimizer='adam', \n",
    "                loss='categorical_crossentropy', \n",
    "                metrics=['accuracy'])"
   ]
  },
  {
   "cell_type": "markdown",
   "metadata": {},
   "source": [
    "### Create a model with `More Nodes(example 100 nodes)`"
   ]
  },
  {
   "cell_type": "code",
   "execution_count": 21,
   "metadata": {},
   "outputs": [],
   "source": [
    "# Create the new model: model_2\n",
    "model_2 = Sequential()\n",
    "# Add the first and second layers\n",
    "model_2.add(Dense(100, activation='relu', input_shape=input_shape))\n",
    "model_2.add(Dense(100, activation='relu'))\n",
    "# Add the output layer\n",
    "model_2.add(Dense(2, activation='softmax'))\n",
    "# Compile model_2\n",
    "model_2.compile(optimizer='adam', \n",
    "                loss='categorical_crossentropy', \n",
    "                metrics=['accuracy'])"
   ]
  },
  {
   "cell_type": "markdown",
   "metadata": {},
   "source": [
    "### Fit both the models"
   ]
  },
  {
   "cell_type": "code",
   "execution_count": 22,
   "metadata": {},
   "outputs": [
    {
     "name": "stdout",
     "output_type": "stream",
     "text": [
      "Train on 712 samples, validate on 179 samples\n",
      "Epoch 1/15\n",
      "712/712 [==============================] - 1s 2ms/step - loss: 6.8667 - acc: 0.3904 - val_loss: 5.9432 - val_acc: 0.3575\n",
      "Epoch 2/15\n",
      "712/712 [==============================] - 0s 134us/step - loss: 5.5034 - acc: 0.3904 - val_loss: 4.5156 - val_acc: 0.3575\n",
      "Epoch 3/15\n",
      "712/712 [==============================] - 0s 106us/step - loss: 4.2134 - acc: 0.3904 - val_loss: 3.1751 - val_acc: 0.3575\n",
      "Epoch 4/15\n",
      "712/712 [==============================] - 0s 151us/step - loss: 2.8633 - acc: 0.4045 - val_loss: 1.8763 - val_acc: 0.5642\n",
      "Epoch 5/15\n",
      "712/712 [==============================] - 0s 163us/step - loss: 1.7753 - acc: 0.6194 - val_loss: 1.0332 - val_acc: 0.7263\n",
      "Epoch 6/15\n",
      "712/712 [==============================] - 0s 101us/step - loss: 1.2028 - acc: 0.6517 - val_loss: 0.6803 - val_acc: 0.7207\n",
      "Epoch 7/15\n",
      "712/712 [==============================] - 0s 137us/step - loss: 0.8685 - acc: 0.6685 - val_loss: 0.5559 - val_acc: 0.7151\n",
      "Epoch 8/15\n",
      "712/712 [==============================] - 0s 119us/step - loss: 0.6869 - acc: 0.6475 - val_loss: 0.5593 - val_acc: 0.6760\n",
      "Epoch 9/15\n",
      "712/712 [==============================] - 0s 130us/step - loss: 0.6674 - acc: 0.6278 - val_loss: 0.5449 - val_acc: 0.7151\n",
      "Epoch 10/15\n",
      "712/712 [==============================] - 0s 147us/step - loss: 0.6457 - acc: 0.6348 - val_loss: 0.5580 - val_acc: 0.6816\n",
      "Epoch 11/15\n",
      "712/712 [==============================] - 0s 171us/step - loss: 0.6460 - acc: 0.6433 - val_loss: 0.5498 - val_acc: 0.7318\n"
     ]
    }
   ],
   "source": [
    "# Fit model_1 # with 10 nodes\n",
    "model_1_training = model_1.fit(X_train, y_train, \n",
    "                               epochs=15, \n",
    "                               validation_split=0.2, \n",
    "                               callbacks=[early_stopping_monitor])"
   ]
  },
  {
   "cell_type": "code",
   "execution_count": 23,
   "metadata": {},
   "outputs": [
    {
     "name": "stdout",
     "output_type": "stream",
     "text": [
      "Train on 712 samples, validate on 179 samples\n",
      "Epoch 1/15\n",
      "712/712 [==============================] - 1s 1ms/step - loss: 0.8850 - acc: 0.6292 - val_loss: 0.5386 - val_acc: 0.7318\n",
      "Epoch 2/15\n",
      "712/712 [==============================] - 0s 122us/step - loss: 0.6438 - acc: 0.6573 - val_loss: 0.5093 - val_acc: 0.7709\n",
      "Epoch 3/15\n",
      "712/712 [==============================] - 0s 137us/step - loss: 0.6886 - acc: 0.6798 - val_loss: 0.4987 - val_acc: 0.7821\n",
      "Epoch 4/15\n",
      "712/712 [==============================] - 0s 199us/step - loss: 0.5730 - acc: 0.7233 - val_loss: 0.4636 - val_acc: 0.7598\n",
      "Epoch 5/15\n",
      "712/712 [==============================] - 0s 143us/step - loss: 0.7240 - acc: 0.6713 - val_loss: 0.5605 - val_acc: 0.7821\n",
      "Epoch 6/15\n",
      "712/712 [==============================] - 0s 125us/step - loss: 0.5982 - acc: 0.6882 - val_loss: 0.5953 - val_acc: 0.6872\n"
     ]
    }
   ],
   "source": [
    "# Fit model_2 # with 100 nodes\n",
    "model_2_training = model_2.fit(X_train, y_train, \n",
    "                               epochs=15, \n",
    "                               validation_split=0.2, \n",
    "                               callbacks=[early_stopping_monitor])                                "
   ]
  },
  {
   "cell_type": "markdown",
   "metadata": {},
   "source": [
    "### Observe the graph"
   ]
  },
  {
   "cell_type": "code",
   "execution_count": 25,
   "metadata": {},
   "outputs": [
    {
     "data": {
      "image/png": "[encoded data removed]",
      "text/plain": [
       "<Figure size 432x288 with 1 Axes>"
      ]
     },
     "metadata": {
      "needs_background": "light"
     },
     "output_type": "display_data"
    }
   ],
   "source": [
    "# Create the plot\n",
    "import matplotlib.pyplot as plt\n",
    "plt.plot(model_1_training.history['val_loss'], 'r',\n",
    "         model_2_training.history['val_loss'], 'b')\n",
    "plt.xlabel('Epochs')\n",
    "plt.ylabel('Validation score')\n",
    "plt.show()"
   ]
  },
  {
   "cell_type": "markdown",
   "metadata": {},
   "source": [
    "> Note: Model_2 <font size=\"3\" color=\"blue\">blue</font> line in the graph has less loss ,so it is good . i.e wider networks are good\n"
   ]
  },
  {
   "cell_type": "markdown",
   "metadata": {},
   "source": [
    "## Exercise 4: Adding layers to a network(`Deeper Network`)\n",
    "- In above exercise 3, you’ve seen how to experiment with wider networks.\n",
    "- In this exercise, you'll try a `Deeper Network (More Hidden Layers)`."
   ]
  },
  {
   "cell_type": "markdown",
   "metadata": {},
   "source": [
    "### Create a model (`With One Layer`)"
   ]
  },
  {
   "cell_type": "code",
   "execution_count": 28,
   "metadata": {},
   "outputs": [],
   "source": [
    "# The input shape to use in the first hidden layer\n",
    "input_shape = (n_fetures,)\n",
    "# Create the new model: model_1\n",
    "model_1 = Sequential()\n",
    "# Add one hidden layer\n",
    "model_1.add(Dense(50, activation='relu', input_shape=input_shape)) \n",
    "# Add the output layer\n",
    "model_1.add(Dense(2, activation='softmax'))\n",
    "# Compile model_1\n",
    "model_1.compile(optimizer='adam', \n",
    "                loss='categorical_crossentropy', \n",
    "                metrics=['accuracy'])"
   ]
  },
  {
   "cell_type": "markdown",
   "metadata": {},
   "source": [
    "### Create a model (`With Three Layers`)"
   ]
  },
  {
   "cell_type": "code",
   "execution_count": 29,
   "metadata": {},
   "outputs": [],
   "source": [
    "# Create the new model: model_2\n",
    "model_2 = Sequential()\n",
    "# Add the first, second, and third hidden layers\n",
    "model_2.add(Dense(50, activation='relu', input_shape=input_shape))\n",
    "model_2.add(Dense(50, activation='relu'))\n",
    "model_2.add(Dense(50, activation='relu'))\n",
    "# Add the output layer\n",
    "model_2.add(Dense(2, activation='softmax'))\n",
    "# Compile model_2\n",
    "model_2.compile(optimizer='adam', loss='categorical_crossentropy', metrics=['accuracy'])"
   ]
  },
  {
   "cell_type": "markdown",
   "metadata": {},
   "source": [
    "### Fit Models"
   ]
  },
  {
   "cell_type": "code",
   "execution_count": 30,
   "metadata": {},
   "outputs": [],
   "source": [
    "# Fit model 1\n",
    "model_1_training = model_1.fit(X_train, y_train, \n",
    "                               epochs=20, \n",
    "                               validation_split=0.4, \n",
    "                               callbacks=[early_stopping_monitor], \n",
    "                               verbose=False)\n",
    "# Fit model 2\n",
    "model_2_training = model_2.fit(X_train, y_train, \n",
    "                               epochs=20, \n",
    "                               validation_split=0.4, \n",
    "                               callbacks=[early_stopping_monitor], \n",
    "                               verbose=False)"
   ]
  },
  {
   "cell_type": "markdown",
   "metadata": {},
   "source": [
    "### Observe the graph"
   ]
  },
  {
   "cell_type": "code",
   "execution_count": 31,
   "metadata": {},
   "outputs": [
    {
     "data": {
      "image/png": "[encoded data removed]",
      "text/plain": [
       "<Figure size 432x288 with 1 Axes>"
      ]
     },
     "metadata": {
      "needs_background": "light"
     },
     "output_type": "display_data"
    }
   ],
   "source": [
    "# Create the plot\n",
    "plt.plot(model_1_training.history['val_loss'], 'r', \n",
    "         model_2_training.history['val_loss'], 'b')\n",
    "plt.xlabel('Epochs')\n",
    "plt.ylabel('Validation score')\n",
    "plt.show()"
   ]
  },
  {
   "cell_type": "markdown",
   "metadata": {},
   "source": [
    "> Note: Model_2 <font size=\"3\" color=\"blue\">blue</font> line in the graph has less loss ,so it is good. That means deeper networks are good\n"
   ]
  },
  {
   "cell_type": "code",
   "execution_count": null,
   "metadata": {
    "collapsed": true,
    "jupyter": {
     "outputs_hidden": true
    }
   },
   "outputs": [],
   "source": []
  }
 ],
 "metadata": {
  "kernelspec": {
   "display_name": "Python 3",
   "language": "python",
   "name": "python3"
  },
  "language_info": {
   "codemirror_mode": {
    "name": "ipython",
    "version": 3
   },
   "file_extension": ".py",
   "mimetype": "text/x-python",
   "name": "python",
   "nbconvert_exporter": "python",
   "pygments_lexer": "ipython3",
   "version": "3.6.9"
  }
 },
 "nbformat": 4,
 "nbformat_minor": 4
}

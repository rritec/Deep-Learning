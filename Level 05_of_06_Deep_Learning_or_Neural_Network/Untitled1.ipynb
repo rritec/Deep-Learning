{
 "cells": [
  {
   "cell_type": "code",
   "execution_count": 2,
   "metadata": {},
   "outputs": [],
   "source": [
    "import numpy as np\n",
    "input_layer=np.array([3,5])"
   ]
  },
  {
   "cell_type": "code",
   "execution_count": 3,
   "metadata": {},
   "outputs": [],
   "source": [
    "weights = {\"node0\":np.array([2,4]),\n",
    "          \"node1\":np.array([4,-5]),\n",
    "          \"node2\":np.array([-1,1]),\n",
    "          \"node3\":np.array([2,2]),\n",
    "          \"outputnode\":np.array([-3,7])}"
   ]
  },
  {
   "cell_type": "code",
   "execution_count": 8,
   "metadata": {},
   "outputs": [
    {
     "name": "stdout",
     "output_type": "stream",
     "text": [
      "node0_value: 26\n",
      "final_node0_value: 26\n"
     ]
    }
   ],
   "source": [
    "node0_value=(input_layer * weights[\"node0\"]).sum()\n",
    "print(f\"node0_value: {node0_value}\")\n",
    "final_node0_value=max(0,node0_value)\n",
    "print(f\"final_node0_value: {final_node0_value}\")"
   ]
  },
  {
   "cell_type": "code",
   "execution_count": 9,
   "metadata": {},
   "outputs": [
    {
     "name": "stdout",
     "output_type": "stream",
     "text": [
      "node1_value: -13\n",
      "final_node1_value: 0\n"
     ]
    }
   ],
   "source": [
    "node1_value=(input_layer * weights[\"node1\"]).sum()\n",
    "print(f\"node1_value: {node1_value}\")\n",
    "final_node1_value=max(0,node1_value)\n",
    "print(f\"final_node1_value: {final_node1_value}\")"
   ]
  },
  {
   "cell_type": "code",
   "execution_count": 10,
   "metadata": {},
   "outputs": [],
   "source": [
    "hidden_layer1_values=np.array([final_node0_value,final_node1_value])"
   ]
  },
  {
   "cell_type": "code",
   "execution_count": 11,
   "metadata": {},
   "outputs": [
    {
     "data": {
      "text/plain": [
       "array([26,  0])"
      ]
     },
     "execution_count": 11,
     "metadata": {},
     "output_type": "execute_result"
    }
   ],
   "source": [
    "hidden_layer1_values"
   ]
  },
  {
   "cell_type": "code",
   "execution_count": 12,
   "metadata": {},
   "outputs": [
    {
     "name": "stdout",
     "output_type": "stream",
     "text": [
      "node2_value: -26\n",
      "final_node2_value: 0\n"
     ]
    }
   ],
   "source": [
    "node2_value=(hidden_layer1_values * weights[\"node2\"]).sum()\n",
    "print(f\"node2_value: {node2_value}\")\n",
    "final_node2_value=max(0,node2_value)\n",
    "print(f\"final_node2_value: {final_node2_value}\")"
   ]
  },
  {
   "cell_type": "code",
   "execution_count": 13,
   "metadata": {},
   "outputs": [
    {
     "name": "stdout",
     "output_type": "stream",
     "text": [
      "node3_value: 52\n",
      "final_node3_value: 52\n"
     ]
    }
   ],
   "source": [
    "node3_value=(hidden_layer1_values * weights[\"node3\"]).sum()\n",
    "print(f\"node3_value: {node3_value}\")\n",
    "final_node3_value=max(0,node3_value)\n",
    "print(f\"final_node3_value: {final_node3_value}\")"
   ]
  },
  {
   "cell_type": "code",
   "execution_count": 14,
   "metadata": {},
   "outputs": [],
   "source": [
    "hidden_layer2_values=np.array([final_node2_value,final_node3_value])"
   ]
  },
  {
   "cell_type": "code",
   "execution_count": 15,
   "metadata": {},
   "outputs": [
    {
     "name": "stdout",
     "output_type": "stream",
     "text": [
      "outputnode_value: 364\n",
      "final_outputnode_value: 364\n"
     ]
    }
   ],
   "source": [
    "outputnode_value=(hidden_layer2_values * weights[\"outputnode\"]).sum()\n",
    "print(f\"outputnode_value: {outputnode_value}\")\n",
    "final_outputnode_value=max(0,outputnode_value)\n",
    "print(f\"final_outputnode_value: {final_outputnode_value}\")"
   ]
  },
  {
   "cell_type": "code",
   "execution_count": 16,
   "metadata": {},
   "outputs": [],
   "source": [
    "# forward propagation with activation function"
   ]
  },
  {
   "cell_type": "code",
   "execution_count": null,
   "metadata": {},
   "outputs": [],
   "source": []
  }
 ],
 "metadata": {
  "kernelspec": {
   "display_name": "Python 3",
   "language": "python",
   "name": "python3"
  },
  "language_info": {
   "codemirror_mode": {
    "name": "ipython",
    "version": 3
   },
   "file_extension": ".py",
   "mimetype": "text/x-python",
   "name": "python",
   "nbconvert_exporter": "python",
   "pygments_lexer": "ipython3",
   "version": "3.6.9"
  }
 },
 "nbformat": 4,
 "nbformat_minor": 4
}

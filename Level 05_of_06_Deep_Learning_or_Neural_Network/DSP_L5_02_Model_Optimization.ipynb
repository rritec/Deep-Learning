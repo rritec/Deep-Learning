{
 "cells": [
  {
   "cell_type": "markdown",
   "metadata": {},
   "source": [
    "# Need For Optimization\n",
    "----\n",
    "1. Understanding how weights change model accuracy?\n",
    "    ![image.png](https://github.com/rritec/datahexa/blob/dev/images/ds%20000013.png?raw=true)\n",
    "3. By Observing above diagram, in ordered to get good quality/optimization, choosing **right weights** play main role."
   ]
  },
  {
   "cell_type": "markdown",
   "metadata": {},
   "source": [
    "## 1. Exercise 1: Change in the weight will impact accuracy?"
   ]
  },
  {
   "cell_type": "markdown",
   "metadata": {},
   "source": [
    "### Step 1: Create ReLU function"
   ]
  },
  {
   "cell_type": "code",
   "execution_count": 5,
   "metadata": {},
   "outputs": [],
   "source": [
    "def relu(my_input):\n",
    "    return(max(0, my_input)) "
   ]
  },
  {
   "cell_type": "markdown",
   "metadata": {},
   "source": [
    "### Step 2: Create predict with network function"
   ]
  },
  {
   "cell_type": "code",
   "execution_count": 6,
   "metadata": {},
   "outputs": [],
   "source": [
    "def predict_with_network(input_data_point, weights):\n",
    "    node_0_input = (input_data_point * weights['node_0']).sum()\n",
    "    node_0_output = relu(node_0_input)\n",
    "    node_1_input = (input_data_point * weights['node_1']).sum()\n",
    "    node_1_output = relu(node_1_input)\n",
    "    hidden_layer_values = np.array([node_0_output, node_1_output])\n",
    "    input_to_final_layer = (hidden_layer_values * weights['output']).sum()\n",
    "    model_output = relu(input_to_final_layer)\n",
    "    return(model_output)"
   ]
  },
  {
   "cell_type": "markdown",
   "metadata": {},
   "source": [
    "### Step 3: Use above functions to predict"
   ]
  },
  {
   "cell_type": "code",
   "execution_count": 7,
   "metadata": {},
   "outputs": [
    {
     "name": "stdout",
     "output_type": "stream",
     "text": [
      "The Real Value is: 13\n",
      "The Model output is: 9\n",
      "The Error is: -4\n"
     ]
    }
   ],
   "source": [
    "import numpy as np\n",
    "# The data point you will make a prediction for\n",
    "input_data = np.array([2, 3])\n",
    "# Sample weights\n",
    "weights_0 = {'node_0': [1, 1],\n",
    "             'node_1': [-1, 1],\n",
    "             'output': [2, -1]}\n",
    "# The actual target value, used to calculate the error\n",
    "target_actual = 13\n",
    "print(\"The Real Value is:\",target_actual)\n",
    "# Make prediction using original weights\n",
    "model_output_0 = predict_with_network(input_data, weights_0)\n",
    "print(\"The Model output is:\",model_output_0)\n",
    "# Calculate error: error_0\n",
    "error_0 = model_output_0 - target_actual\n",
    "print(\"The Error is:\",error_0)"
   ]
  },
  {
   "cell_type": "markdown",
   "metadata": {},
   "source": [
    "### Step 4: Change weights"
   ]
  },
  {
   "cell_type": "code",
   "execution_count": 8,
   "metadata": {},
   "outputs": [
    {
     "name": "stdout",
     "output_type": "stream",
     "text": [
      "The Real Value is: 13\n",
      "The Model output after changing weights:  13\n",
      "The Error after changing weights:  0\n"
     ]
    }
   ],
   "source": [
    "# Create weights that cause the network to make perfect prediction (3): weights_1\n",
    "weights_1 = {'node_0': [1, 1],\n",
    "             'node_1': [-1, 1],\n",
    "             'output': [3, -2]\n",
    "            }\n",
    "# Make prediction using new weights: model_output_1\n",
    "model_output_1 = predict_with_network(input_data, weights_1)\n",
    "print(\"The Real Value is:\",target_actual)\n",
    "print(\"The Model output after changing weights: \",model_output_1)\n",
    "# Calculate error: error_1\n",
    "error_1 = model_output_1 - target_actual\n",
    "print(\"The Error after changing weights: \",error_1)"
   ]
  },
  {
   "cell_type": "code",
   "execution_count": null,
   "metadata": {
    "collapsed": true
   },
   "outputs": [],
   "source": []
  }
 ],
 "metadata": {
  "kernelspec": {
   "display_name": "Python 3",
   "language": "python",
   "name": "python3"
  },
  "language_info": {
   "codemirror_mode": {
    "name": "ipython",
    "version": 3
   },
   "file_extension": ".py",
   "mimetype": "text/x-python",
   "name": "python",
   "nbconvert_exporter": "python",
   "pygments_lexer": "ipython3",
   "version": "3.6.9"
  }
 },
 "nbformat": 4,
 "nbformat_minor": 2
}

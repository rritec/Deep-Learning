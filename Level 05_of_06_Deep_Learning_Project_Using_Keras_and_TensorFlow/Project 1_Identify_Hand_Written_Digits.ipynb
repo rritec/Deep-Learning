{
 "cells": [
  {
   "cell_type": "markdown",
   "metadata": {
    "colab_type": "text",
    "id": "MuLndGaLGNgZ"
   },
   "source": [
    "# `Project using keras and backend as tensorflow`\n",
    "-------------\n",
    "- **Business Problem Statement:** Identify hand written digits by using data of MNIST\n",
    "- [Read more about hand written digit database MNIST](http://yann.lecun.com/exdb/mnist/)"
   ]
  },
  {
   "cell_type": "markdown",
   "metadata": {
    "colab_type": "text",
    "id": "MOQVPgFeGNgZ"
   },
   "source": [
    "## Import Required Modules"
   ]
  },
  {
   "cell_type": "code",
   "execution_count": 30,
   "metadata": {
    "colab": {},
    "colab_type": "code",
    "id": "Xtu-PaNrGNgZ"
   },
   "outputs": [],
   "source": [
    "# imports for array-handling and plotting\n",
    "import os\n",
    "import numpy as np\n",
    "import matplotlib.pyplot as plt\n",
    "\n",
    "\n",
    "# keras imports for the dataset\n",
    "from keras.datasets import mnist\n",
    "\n",
    "# keras imports building our neural network\n",
    "from keras.models import Sequential, load_model\n",
    "from keras.layers.core import Dense, Dropout, Activation\n",
    "from keras.utils import np_utils\n",
    "\n",
    "# ignore warnings\n",
    "import warnings\n",
    "warnings.simplefilter(\"ignore\")"
   ]
  },
  {
   "cell_type": "markdown",
   "metadata": {
    "colab_type": "text",
    "id": "Aumev78oGNg9",
    "toc-hr-collapsed": true
   },
   "source": [
    "## Understanding and Preprocessing the Dataset"
   ]
  },
  {
   "cell_type": "markdown",
   "metadata": {},
   "source": [
    "### Load train and test data"
   ]
  },
  {
   "cell_type": "code",
   "execution_count": 31,
   "metadata": {
    "colab": {},
    "colab_type": "code",
    "id": "qiVJsRqtGNg9"
   },
   "outputs": [
    {
     "data": {
      "text/plain": [
       "\u001b[1;31mSignature:\u001b[0m \u001b[0mmnist\u001b[0m\u001b[1;33m.\u001b[0m\u001b[0mload_data\u001b[0m\u001b[1;33m(\u001b[0m\u001b[0mpath\u001b[0m\u001b[1;33m=\u001b[0m\u001b[1;34m'mnist.npz'\u001b[0m\u001b[1;33m)\u001b[0m\u001b[1;33m\u001b[0m\u001b[1;33m\u001b[0m\u001b[0m\n",
       "\u001b[1;31mDocstring:\u001b[0m\n",
       "Loads the MNIST dataset.\n",
       "\n",
       "# Arguments\n",
       "    path: path where to cache the dataset locally\n",
       "        (relative to ~/.keras/datasets).\n",
       "\n",
       "# Returns\n",
       "    Tuple of Numpy arrays: `(x_train, y_train), (x_test, y_test)`.\n",
       "\u001b[1;31mFile:\u001b[0m      c:\\users\\ramreddymyla\\anaconda3\\envs\\dl\\lib\\site-packages\\keras\\datasets\\mnist.py\n",
       "\u001b[1;31mType:\u001b[0m      function\n"
      ]
     },
     "metadata": {},
     "output_type": "display_data"
    }
   ],
   "source": [
    "mnist.load_data?"
   ]
  },
  {
   "cell_type": "code",
   "execution_count": 32,
   "metadata": {
    "colab": {},
    "colab_type": "code",
    "id": "SQQvYpleGNhN"
   },
   "outputs": [],
   "source": [
    "# Load the dataset\n",
    "(X_train, y_train), (X_test, y_test) = mnist.load_data()"
   ]
  },
  {
   "cell_type": "code",
   "execution_count": 33,
   "metadata": {
    "colab": {},
    "colab_type": "code",
    "id": "soiSgEBdGNhc",
    "outputId": "b895ef4e-11b0-4687-cc19-e24a4ad23b0e"
   },
   "outputs": [
    {
     "data": {
      "text/plain": [
       "(60000, 10000, 60000, 10000)"
      ]
     },
     "execution_count": 33,
     "metadata": {},
     "output_type": "execute_result"
    }
   ],
   "source": [
    "len(X_train),len(X_test),len(y_train),len(y_test)"
   ]
  },
  {
   "cell_type": "code",
   "execution_count": 34,
   "metadata": {
    "colab": {},
    "colab_type": "code",
    "id": "4iSG3bz9GNiL",
    "outputId": "15cb20ab-a411-4dfd-ff47-f22663e0a3c2"
   },
   "outputs": [
    {
     "data": {
      "image/png": "[encoded data removed]",
      "text/plain": [
       "<Figure size 432x288 with 9 Axes>"
      ]
     },
     "metadata": {},
     "output_type": "display_data"
    }
   ],
   "source": [
    "# Observe first 9 images of train data set\n",
    "for i in range(9):\n",
    "    plt.subplot(3,3,i+1)\n",
    "    plt.tight_layout()\n",
    "    plt.imshow(X_train[i], cmap='gray', interpolation='none')\n",
    "    plt.title(\"Class {}\".format(y_train[i]))\n",
    "    plt.xticks([])\n",
    "    plt.yticks([])    \n",
    "plt.show()    "
   ]
  },
  {
   "cell_type": "markdown",
   "metadata": {},
   "source": [
    "### Change the shape of input data from `3D to 2D`"
   ]
  },
  {
   "cell_type": "code",
   "execution_count": 35,
   "metadata": {
    "colab": {},
    "colab_type": "code",
    "id": "fWzvvYDyGNiq",
    "outputId": "d02264af-0afe-4db4-9fe9-606665acf1b3"
   },
   "outputs": [
    {
     "data": {
      "text/plain": [
       "(60000, 28, 28)"
      ]
     },
     "execution_count": 35,
     "metadata": {},
     "output_type": "execute_result"
    }
   ],
   "source": [
    "X_train.shape"
   ]
  },
  {
   "cell_type": "code",
   "execution_count": 36,
   "metadata": {
    "colab": {},
    "colab_type": "code",
    "id": "SupKuBo3GNi6",
    "outputId": "8ab8fc1a-8a3d-47e5-df73-4586afc0eab6"
   },
   "outputs": [
    {
     "data": {
      "text/plain": [
       "3"
      ]
     },
     "execution_count": 36,
     "metadata": {},
     "output_type": "execute_result"
    }
   ],
   "source": [
    "X_train.ndim"
   ]
  },
  {
   "cell_type": "markdown",
   "metadata": {
    "colab_type": "text",
    "id": "rWXTaLj4GNi6"
   },
   "source": [
    "- In order to train our neural network to classify images we first have to unroll the # height × width pixel format into one big vector - the input vector. So its length must be  28 * 28 = 784.\n"
   ]
  },
  {
   "cell_type": "code",
   "execution_count": 37,
   "metadata": {
    "colab": {},
    "colab_type": "code",
    "id": "FecCHzmdGNjK",
    "outputId": "6ae9d739-cc39-4e47-83ec-20ff020c9c94"
   },
   "outputs": [
    {
     "name": "stdout",
     "output_type": "stream",
     "text": [
      "X_train shape (60000, 28, 28)\n",
      "y_train shape (60000,)\n",
      "X_test shape (10000, 28, 28)\n",
      "y_test shape (10000,)\n"
     ]
    }
   ],
   "source": [
    "# let's print the shape before we reshape and normalize\n",
    "print(\"X_train shape\", X_train.shape)\n",
    "print(\"y_train shape\", y_train.shape)\n",
    "print(\"X_test shape\", X_test.shape)\n",
    "print(\"y_test shape\", y_test.shape)"
   ]
  },
  {
   "cell_type": "code",
   "execution_count": 38,
   "metadata": {},
   "outputs": [
    {
     "name": "stdout",
     "output_type": "stream",
     "text": [
      "the number of traing samples are: 60000\n",
      "the number of traing features are: 784\n",
      "the number of testing samples are: 10000\n",
      "the number of testing features are: 784\n"
     ]
    }
   ],
   "source": [
    "n_samples_train=X_train.shape[0]\n",
    "print(f\"the number of traing samples are: {n_samples_train}\")\n",
    "n_features_train=X_train.shape[1] * X_train.shape[2]\n",
    "print(f\"the number of traing features are: {n_features_train}\")\n",
    "\n",
    "n_samples_test=X_test.shape[0]\n",
    "print(f\"the number of testing samples are: {n_samples_test}\")\n",
    "n_features_test=X_test.shape[1] * X_test.shape[2]\n",
    "print(f\"the number of testing features are: {n_features_test}\")"
   ]
  },
  {
   "cell_type": "code",
   "execution_count": 39,
   "metadata": {
    "colab": {},
    "colab_type": "code",
    "id": "8WvklHP_GNjK"
   },
   "outputs": [],
   "source": [
    "# building the input vector from the 28x28 pixels\n",
    "# converting 3D array(ex 60000 * 28 * 28) into 2d array( ex: 60000*784)\n",
    "X_train = X_train.reshape(n_samples_train, n_features_train)\n",
    "X_test = X_test.reshape(n_samples_test, n_features_test)\n",
    "X_train = X_train.astype('float32')\n",
    "X_test = X_test.astype('float32')"
   ]
  },
  {
   "cell_type": "code",
   "execution_count": 40,
   "metadata": {},
   "outputs": [
    {
     "data": {
      "text/plain": [
       "(60000, 784)"
      ]
     },
     "execution_count": 40,
     "metadata": {},
     "output_type": "execute_result"
    }
   ],
   "source": [
    "X_train.shape"
   ]
  },
  {
   "cell_type": "markdown",
   "metadata": {},
   "source": [
    "### Normalize the Input data"
   ]
  },
  {
   "cell_type": "markdown",
   "metadata": {
    "colab_type": "text",
    "id": "4hqDAszzGNjK"
   },
   "source": [
    "- Note that the pixel values range from 0 to 255: the background majority close to 0, and those close to 255 representing the digit."
   ]
  },
  {
   "cell_type": "markdown",
   "metadata": {
    "colab_type": "text",
    "id": "8lB4TFi0GNjK"
   },
   "source": [
    "- Normalizing the input data helps to speed up the training. Also, it reduces the chance of getting stuck in local optima, since we're using stochastic gradient descent to find the optimal weights for the network.\n",
    "- Let's normalize the pixel values to lie between 0 and 1."
   ]
  },
  {
   "cell_type": "code",
   "execution_count": 41,
   "metadata": {},
   "outputs": [
    {
     "data": {
      "text/plain": [
       "255.0"
      ]
     },
     "execution_count": 41,
     "metadata": {},
     "output_type": "execute_result"
    }
   ],
   "source": [
    "max(X_train[0])"
   ]
  },
  {
   "cell_type": "code",
   "execution_count": 42,
   "metadata": {},
   "outputs": [
    {
     "data": {
      "text/plain": [
       "0.0"
      ]
     },
     "execution_count": 42,
     "metadata": {},
     "output_type": "execute_result"
    }
   ],
   "source": [
    "min(X_train[0])"
   ]
  },
  {
   "cell_type": "code",
   "execution_count": 43,
   "metadata": {
    "colab": {},
    "colab_type": "code",
    "id": "zu8Jyh8XGNjZ",
    "outputId": "3679e47a-b937-4b38-b27b-11fff014209c"
   },
   "outputs": [
    {
     "data": {
      "text/plain": [
       "array([  0.,  18., 126.,  26.], dtype=float32)"
      ]
     },
     "execution_count": 43,
     "metadata": {},
     "output_type": "execute_result"
    }
   ],
   "source": [
    "# observe one image fifferent pixels \n",
    "X_train[0][[144,155,156,159]]"
   ]
  },
  {
   "cell_type": "code",
   "execution_count": 44,
   "metadata": {
    "colab": {},
    "colab_type": "code",
    "id": "CSTEZEwPGNjZ"
   },
   "outputs": [],
   "source": [
    "# normalizing the data to help with the training\n",
    "X_train /= 255\n",
    "X_test /= 255"
   ]
  },
  {
   "cell_type": "code",
   "execution_count": 45,
   "metadata": {
    "colab": {},
    "colab_type": "code",
    "id": "0Pk4EePQGNjp",
    "outputId": "4b423c75-4497-4371-d8c7-bd4bb3588834"
   },
   "outputs": [
    {
     "data": {
      "text/plain": [
       "array([0.        , 0.07058824, 0.49411765, 0.10196079], dtype=float32)"
      ]
     },
     "execution_count": 45,
     "metadata": {},
     "output_type": "execute_result"
    }
   ],
   "source": [
    "X_train[0][[144,155,156,159]]"
   ]
  },
  {
   "cell_type": "code",
   "execution_count": 46,
   "metadata": {
    "colab": {},
    "colab_type": "code",
    "id": "zeX6w9o8GNjp",
    "outputId": "5ae01abd-0021-44af-f509-d46a9fa0f82a"
   },
   "outputs": [
    {
     "name": "stdout",
     "output_type": "stream",
     "text": [
      "Train matrix shape (60000, 784)\n",
      "Test matrix shape (10000, 784)\n"
     ]
    }
   ],
   "source": [
    "# print the final input shape ready for training\n",
    "print(\"Train matrix shape\", X_train.shape)\n",
    "print(\"Test matrix shape\", X_test.shape)"
   ]
  },
  {
   "cell_type": "markdown",
   "metadata": {},
   "source": [
    "### convert output y data into Categorical"
   ]
  },
  {
   "cell_type": "code",
   "execution_count": 47,
   "metadata": {
    "colab": {},
    "colab_type": "code",
    "id": "7MQ9P9NTGNjp",
    "outputId": "26086f44-e3e0-43df-fa9b-2f8fa260ca8a"
   },
   "outputs": [
    {
     "data": {
      "text/plain": [
       "5"
      ]
     },
     "execution_count": 47,
     "metadata": {},
     "output_type": "execute_result"
    }
   ],
   "source": [
    "y_train[0]"
   ]
  },
  {
   "cell_type": "code",
   "execution_count": 48,
   "metadata": {
    "colab": {},
    "colab_type": "code",
    "id": "fslri0T3GNjp",
    "outputId": "db5cf8c7-7723-4a85-ec98-9fd4e120caea"
   },
   "outputs": [
    {
     "name": "stdout",
     "output_type": "stream",
     "text": [
      "(array([0, 1, 2, 3, 4, 5, 6, 7, 8, 9], dtype=uint8), array([5923, 6742, 5958, 6131, 5842, 5421, 5918, 6265, 5851, 5949],\n",
      "      dtype=int64))\n"
     ]
    }
   ],
   "source": [
    "#Let us see the number of expected outcomes\n",
    "print(np.unique(y_train, return_counts=True))"
   ]
  },
  {
   "cell_type": "markdown",
   "metadata": {
    "colab_type": "text",
    "id": "GMkEWPaAGNj4"
   },
   "source": [
    "- Let's encode our categories - digits from 0 to 9 - using one-hot encoding. The result is a vector with a length equal to the number of categories. The vector is all zeroes except in the position for the respective category. Thus a '5' will be represented by [0,0,0,0,0,1,0,0,0,0]"
   ]
  },
  {
   "cell_type": "code",
   "execution_count": 49,
   "metadata": {
    "colab": {},
    "colab_type": "code",
    "id": "HyAMfdoeGNj4",
    "outputId": "094fd28e-2de7-40aa-b9a5-59f81d77d82a"
   },
   "outputs": [
    {
     "name": "stdout",
     "output_type": "stream",
     "text": [
      "Shape before one-hot encoding:  (60000,)\n",
      "Shape after one-hot encoding:  (60000, 10)\n"
     ]
    }
   ],
   "source": [
    "#one-hot encoding using keras' numpy-related utilities\n",
    "n_classes = 10\n",
    "print(\"Shape before one-hot encoding: \", y_train.shape)\n",
    "Y_train = np_utils.to_categorical(y_train, n_classes)\n",
    "Y_test = np_utils.to_categorical(y_test, n_classes)\n",
    "print(\"Shape after one-hot encoding: \", Y_train.shape)\n"
   ]
  },
  {
   "cell_type": "code",
   "execution_count": 50,
   "metadata": {
    "colab": {},
    "colab_type": "code",
    "id": "pYJAKarGGNj4",
    "outputId": "4c1f4bee-0515-4f48-b79e-5e379202345d"
   },
   "outputs": [
    {
     "data": {
      "text/plain": [
       "4"
      ]
     },
     "execution_count": 50,
     "metadata": {},
     "output_type": "execute_result"
    }
   ],
   "source": [
    "y_train[2]"
   ]
  },
  {
   "cell_type": "code",
   "execution_count": 51,
   "metadata": {
    "colab": {},
    "colab_type": "code",
    "id": "ghUdH8jWGNkI",
    "outputId": "63da94bb-081f-4189-e781-32df8ca80001"
   },
   "outputs": [
    {
     "data": {
      "text/plain": [
       "array([0., 0., 0., 0., 1., 0., 0., 0., 0., 0.], dtype=float32)"
      ]
     },
     "execution_count": 51,
     "metadata": {},
     "output_type": "execute_result"
    }
   ],
   "source": [
    "Y_train[2]"
   ]
  },
  {
   "cell_type": "code",
   "execution_count": 52,
   "metadata": {
    "colab": {},
    "colab_type": "code",
    "id": "Rm5-hfe2GNkY",
    "outputId": "04308c8b-66d5-4c92-b674-39a8803e3aad"
   },
   "outputs": [
    {
     "data": {
      "text/plain": [
       "1"
      ]
     },
     "execution_count": 52,
     "metadata": {},
     "output_type": "execute_result"
    }
   ],
   "source": [
    "y_train[3]"
   ]
  },
  {
   "cell_type": "code",
   "execution_count": 53,
   "metadata": {
    "colab": {},
    "colab_type": "code",
    "id": "AC8Iije9GNkY",
    "outputId": "8d961873-6430-4956-d2e4-ac728a9d351f"
   },
   "outputs": [
    {
     "data": {
      "text/plain": [
       "array([0., 1., 0., 0., 0., 0., 0., 0., 0., 0.], dtype=float32)"
      ]
     },
     "execution_count": 53,
     "metadata": {},
     "output_type": "execute_result"
    }
   ],
   "source": [
    "Y_train[3]"
   ]
  },
  {
   "cell_type": "markdown",
   "metadata": {
    "colab_type": "text",
    "id": "pfuBxhATGNkY"
   },
   "source": [
    "## Building the Network"
   ]
  },
  {
   "cell_type": "markdown",
   "metadata": {
    "colab_type": "text",
    "id": "cgI42k29GNkY"
   },
   "source": [
    "![image.png](https://github.com/rritec/datahexa/blob/dev/images/dl/arch.png?raw=true)\n"
   ]
  },
  {
   "cell_type": "markdown",
   "metadata": {
    "colab_type": "text",
    "id": "MkCtyAvqGNkY"
   },
   "source": [
    "1.\tOur pixel vector serves as the input. Then, two hidden 512-node layers, with enough model complexity for recognizing digits. For the multi-class classification we add another densely-connected (or fully-connected) layer for the 10 different output classes. For this network architecture we can use the Keras Sequential Model. We can stack layers using the .add() method.\n",
    "2.\tWhen adding the first layer in the Sequential Model we need to specify the input shape so Keras can create the appropriate matrices. For all remaining layers the shape is inferred automatically.\n",
    "3.\tIn order to introduce nonlinearities into the network and elevate it beyond the capabilities of a simple perceptron we also add activation functions to the hidden layers. The differentiation for the training via backpropagation is happening behind the scenes without having to implement the details. \n",
    "4.\tWe also add **dropout** as a way to prevent overfitting. Here we randomly keep some network weights fixed when we would normally update them so that the network doesn't rely too much on very few nodes.\n",
    "5.\tThe last layer consists of connections for our 10 classes and the **softmax activation** which is standard for multi-class targets.\n"
   ]
  },
  {
   "cell_type": "code",
   "execution_count": 54,
   "metadata": {
    "colab": {},
    "colab_type": "code",
    "id": "ur82dmyAGNkY"
   },
   "outputs": [],
   "source": [
    "#Dense?"
   ]
  },
  {
   "cell_type": "code",
   "execution_count": 55,
   "metadata": {},
   "outputs": [
    {
     "data": {
      "text/plain": [
       "784"
      ]
     },
     "execution_count": 55,
     "metadata": {},
     "output_type": "execute_result"
    }
   ],
   "source": [
    "n_cols=X_train.shape[1]\n",
    "n_cols"
   ]
  },
  {
   "cell_type": "code",
   "execution_count": 56,
   "metadata": {},
   "outputs": [
    {
     "data": {
      "text/plain": [
       "\u001b[1;31mInit signature:\u001b[0m \u001b[0mDropout\u001b[0m\u001b[1;33m(\u001b[0m\u001b[0mrate\u001b[0m\u001b[1;33m,\u001b[0m \u001b[0mnoise_shape\u001b[0m\u001b[1;33m=\u001b[0m\u001b[1;32mNone\u001b[0m\u001b[1;33m,\u001b[0m \u001b[0mseed\u001b[0m\u001b[1;33m=\u001b[0m\u001b[1;32mNone\u001b[0m\u001b[1;33m,\u001b[0m \u001b[1;33m**\u001b[0m\u001b[0mkwargs\u001b[0m\u001b[1;33m)\u001b[0m\u001b[1;33m\u001b[0m\u001b[1;33m\u001b[0m\u001b[0m\n",
       "\u001b[1;31mDocstring:\u001b[0m     \n",
       "Applies Dropout to the input.\n",
       "\n",
       "Dropout consists in randomly setting\n",
       "a fraction `rate` of input units to 0 at each update during training time,\n",
       "which helps prevent overfitting.\n",
       "\n",
       "# Arguments\n",
       "    rate: float between 0 and 1. Fraction of the input units to drop.\n",
       "    noise_shape: 1D integer tensor representing the shape of the\n",
       "        binary dropout mask that will be multiplied with the input.\n",
       "        For instance, if your inputs have shape\n",
       "        `(batch_size, timesteps, features)` and\n",
       "        you want the dropout mask to be the same for all timesteps,\n",
       "        you can use `noise_shape=(batch_size, 1, features)`.\n",
       "    seed: A Python integer to use as random seed.\n",
       "\n",
       "# References\n",
       "    - [Dropout: A Simple Way to Prevent Neural Networks from Overfitting]\n",
       "      (http://www.jmlr.org/papers/volume15/srivastava14a/srivastava14a.pdf)\n",
       "\u001b[1;31mFile:\u001b[0m           c:\\users\\ramreddymyla\\anaconda3\\envs\\dl\\lib\\site-packages\\keras\\layers\\core.py\n",
       "\u001b[1;31mType:\u001b[0m           type\n",
       "\u001b[1;31mSubclasses:\u001b[0m     SpatialDropout1D, SpatialDropout2D, SpatialDropout3D\n"
      ]
     },
     "metadata": {},
     "output_type": "display_data"
    }
   ],
   "source": [
    "Dropout?"
   ]
  },
  {
   "cell_type": "code",
   "execution_count": 57,
   "metadata": {
    "colab": {},
    "colab_type": "code",
    "id": "C8K7TgtEGNkY"
   },
   "outputs": [],
   "source": [
    "# building a linear stack of layers with the sequential model\n",
    "# define input and fitst hidden layers\n",
    "model = Sequential()\n",
    "model.add(Dense(512, input_shape=(n_cols,)))\n",
    "model.add(Activation('relu'))                            \n",
    "model.add(Dropout(0.2))\n",
    "\n",
    "# define second hidden layer\n",
    "model.add(Dense(512))\n",
    "model.add(Activation('relu'))\n",
    "model.add(Dropout(0.2))\n",
    "\n",
    "# define output layer\n",
    "model.add(Dense(10))\n",
    "model.add(Activation('softmax'))"
   ]
  },
  {
   "cell_type": "code",
   "execution_count": 58,
   "metadata": {},
   "outputs": [
    {
     "data": {
      "image/svg+xml": [
       "<svg height=\"709pt\" viewBox=\"0.00 0.00 295.00 709.00\" width=\"295pt\" xmlns=\"http://www.w3.org/2000/svg\" xmlns:xlink=\"http://www.w3.org/1999/xlink\">\n",
       "<g class=\"graph\" id=\"graph0\" transform=\"scale(1 1) rotate(0) translate(4 705)\">\n",
       "<title>G</title>\n",
       "<polygon fill=\"white\" points=\"-4,4 -4,-705 291,-705 291,4 -4,4\" stroke=\"none\"/>\n",
       "<!-- 2343513959952 -->\n",
       "<g class=\"node\" id=\"node1\"><title>2343513959952</title>\n",
       "<polygon fill=\"none\" points=\"22,-581.5 22,-627.5 265,-627.5 265,-581.5 22,-581.5\" stroke=\"black\"/>\n",
       "<text font-family=\"Times New Roman,serif\" font-size=\"14.00\" text-anchor=\"middle\" x=\"74\" y=\"-600.8\">dense_4: Dense</text>\n",
       "<polyline fill=\"none\" points=\"126,-581.5 126,-627.5 \" stroke=\"black\"/>\n",
       "<text font-family=\"Times New Roman,serif\" font-size=\"14.00\" text-anchor=\"middle\" x=\"154\" y=\"-612.3\">input:</text>\n",
       "<polyline fill=\"none\" points=\"126,-604.5 182,-604.5 \" stroke=\"black\"/>\n",
       "<text font-family=\"Times New Roman,serif\" font-size=\"14.00\" text-anchor=\"middle\" x=\"154\" y=\"-589.3\">output:</text>\n",
       "<polyline fill=\"none\" points=\"182,-581.5 182,-627.5 \" stroke=\"black\"/>\n",
       "<text font-family=\"Times New Roman,serif\" font-size=\"14.00\" text-anchor=\"middle\" x=\"223.5\" y=\"-612.3\">(None, 784)</text>\n",
       "<polyline fill=\"none\" points=\"182,-604.5 265,-604.5 \" stroke=\"black\"/>\n",
       "<text font-family=\"Times New Roman,serif\" font-size=\"14.00\" text-anchor=\"middle\" x=\"223.5\" y=\"-589.3\">(None, 512)</text>\n",
       "</g>\n",
       "<!-- 2343513959560 -->\n",
       "<g class=\"node\" id=\"node2\"><title>2343513959560</title>\n",
       "<polygon fill=\"none\" points=\"0,-498.5 0,-544.5 287,-544.5 287,-498.5 0,-498.5\" stroke=\"black\"/>\n",
       "<text font-family=\"Times New Roman,serif\" font-size=\"14.00\" text-anchor=\"middle\" x=\"74\" y=\"-517.8\">activation_4: Activation</text>\n",
       "<polyline fill=\"none\" points=\"148,-498.5 148,-544.5 \" stroke=\"black\"/>\n",
       "<text font-family=\"Times New Roman,serif\" font-size=\"14.00\" text-anchor=\"middle\" x=\"176\" y=\"-529.3\">input:</text>\n",
       "<polyline fill=\"none\" points=\"148,-521.5 204,-521.5 \" stroke=\"black\"/>\n",
       "<text font-family=\"Times New Roman,serif\" font-size=\"14.00\" text-anchor=\"middle\" x=\"176\" y=\"-506.3\">output:</text>\n",
       "<polyline fill=\"none\" points=\"204,-498.5 204,-544.5 \" stroke=\"black\"/>\n",
       "<text font-family=\"Times New Roman,serif\" font-size=\"14.00\" text-anchor=\"middle\" x=\"245.5\" y=\"-529.3\">(None, 512)</text>\n",
       "<polyline fill=\"none\" points=\"204,-521.5 287,-521.5 \" stroke=\"black\"/>\n",
       "<text font-family=\"Times New Roman,serif\" font-size=\"14.00\" text-anchor=\"middle\" x=\"245.5\" y=\"-506.3\">(None, 512)</text>\n",
       "</g>\n",
       "<!-- 2343513959952&#45;&gt;2343513959560 -->\n",
       "<g class=\"edge\" id=\"edge2\"><title>2343513959952-&gt;2343513959560</title>\n",
       "<path d=\"M143.5,-581.366C143.5,-573.152 143.5,-563.658 143.5,-554.725\" fill=\"none\" stroke=\"black\"/>\n",
       "<polygon fill=\"black\" points=\"147,-554.607 143.5,-544.607 140,-554.607 147,-554.607\" stroke=\"black\"/>\n",
       "</g>\n",
       "<!-- 2343513957376 -->\n",
       "<g class=\"node\" id=\"node3\"><title>2343513957376</title>\n",
       "<polygon fill=\"none\" points=\"9,-415.5 9,-461.5 278,-461.5 278,-415.5 9,-415.5\" stroke=\"black\"/>\n",
       "<text font-family=\"Times New Roman,serif\" font-size=\"14.00\" text-anchor=\"middle\" x=\"74\" y=\"-434.8\">dropout_3: Dropout</text>\n",
       "<polyline fill=\"none\" points=\"139,-415.5 139,-461.5 \" stroke=\"black\"/>\n",
       "<text font-family=\"Times New Roman,serif\" font-size=\"14.00\" text-anchor=\"middle\" x=\"167\" y=\"-446.3\">input:</text>\n",
       "<polyline fill=\"none\" points=\"139,-438.5 195,-438.5 \" stroke=\"black\"/>\n",
       "<text font-family=\"Times New Roman,serif\" font-size=\"14.00\" text-anchor=\"middle\" x=\"167\" y=\"-423.3\">output:</text>\n",
       "<polyline fill=\"none\" points=\"195,-415.5 195,-461.5 \" stroke=\"black\"/>\n",
       "<text font-family=\"Times New Roman,serif\" font-size=\"14.00\" text-anchor=\"middle\" x=\"236.5\" y=\"-446.3\">(None, 512)</text>\n",
       "<polyline fill=\"none\" points=\"195,-438.5 278,-438.5 \" stroke=\"black\"/>\n",
       "<text font-family=\"Times New Roman,serif\" font-size=\"14.00\" text-anchor=\"middle\" x=\"236.5\" y=\"-423.3\">(None, 512)</text>\n",
       "</g>\n",
       "<!-- 2343513959560&#45;&gt;2343513957376 -->\n",
       "<g class=\"edge\" id=\"edge3\"><title>2343513959560-&gt;2343513957376</title>\n",
       "<path d=\"M143.5,-498.366C143.5,-490.152 143.5,-480.658 143.5,-471.725\" fill=\"none\" stroke=\"black\"/>\n",
       "<polygon fill=\"black\" points=\"147,-471.607 143.5,-461.607 140,-471.607 147,-471.607\" stroke=\"black\"/>\n",
       "</g>\n",
       "<!-- 2343513667064 -->\n",
       "<g class=\"node\" id=\"node4\"><title>2343513667064</title>\n",
       "<polygon fill=\"none\" points=\"22,-332.5 22,-378.5 265,-378.5 265,-332.5 22,-332.5\" stroke=\"black\"/>\n",
       "<text font-family=\"Times New Roman,serif\" font-size=\"14.00\" text-anchor=\"middle\" x=\"74\" y=\"-351.8\">dense_5: Dense</text>\n",
       "<polyline fill=\"none\" points=\"126,-332.5 126,-378.5 \" stroke=\"black\"/>\n",
       "<text font-family=\"Times New Roman,serif\" font-size=\"14.00\" text-anchor=\"middle\" x=\"154\" y=\"-363.3\">input:</text>\n",
       "<polyline fill=\"none\" points=\"126,-355.5 182,-355.5 \" stroke=\"black\"/>\n",
       "<text font-family=\"Times New Roman,serif\" font-size=\"14.00\" text-anchor=\"middle\" x=\"154\" y=\"-340.3\">output:</text>\n",
       "<polyline fill=\"none\" points=\"182,-332.5 182,-378.5 \" stroke=\"black\"/>\n",
       "<text font-family=\"Times New Roman,serif\" font-size=\"14.00\" text-anchor=\"middle\" x=\"223.5\" y=\"-363.3\">(None, 512)</text>\n",
       "<polyline fill=\"none\" points=\"182,-355.5 265,-355.5 \" stroke=\"black\"/>\n",
       "<text font-family=\"Times New Roman,serif\" font-size=\"14.00\" text-anchor=\"middle\" x=\"223.5\" y=\"-340.3\">(None, 512)</text>\n",
       "</g>\n",
       "<!-- 2343513957376&#45;&gt;2343513667064 -->\n",
       "<g class=\"edge\" id=\"edge4\"><title>2343513957376-&gt;2343513667064</title>\n",
       "<path d=\"M143.5,-415.366C143.5,-407.152 143.5,-397.658 143.5,-388.725\" fill=\"none\" stroke=\"black\"/>\n",
       "<polygon fill=\"black\" points=\"147,-388.607 143.5,-378.607 140,-388.607 147,-388.607\" stroke=\"black\"/>\n",
       "</g>\n",
       "<!-- 2343513958272 -->\n",
       "<g class=\"node\" id=\"node5\"><title>2343513958272</title>\n",
       "<polygon fill=\"none\" points=\"0,-249.5 0,-295.5 287,-295.5 287,-249.5 0,-249.5\" stroke=\"black\"/>\n",
       "<text font-family=\"Times New Roman,serif\" font-size=\"14.00\" text-anchor=\"middle\" x=\"74\" y=\"-268.8\">activation_5: Activation</text>\n",
       "<polyline fill=\"none\" points=\"148,-249.5 148,-295.5 \" stroke=\"black\"/>\n",
       "<text font-family=\"Times New Roman,serif\" font-size=\"14.00\" text-anchor=\"middle\" x=\"176\" y=\"-280.3\">input:</text>\n",
       "<polyline fill=\"none\" points=\"148,-272.5 204,-272.5 \" stroke=\"black\"/>\n",
       "<text font-family=\"Times New Roman,serif\" font-size=\"14.00\" text-anchor=\"middle\" x=\"176\" y=\"-257.3\">output:</text>\n",
       "<polyline fill=\"none\" points=\"204,-249.5 204,-295.5 \" stroke=\"black\"/>\n",
       "<text font-family=\"Times New Roman,serif\" font-size=\"14.00\" text-anchor=\"middle\" x=\"245.5\" y=\"-280.3\">(None, 512)</text>\n",
       "<polyline fill=\"none\" points=\"204,-272.5 287,-272.5 \" stroke=\"black\"/>\n",
       "<text font-family=\"Times New Roman,serif\" font-size=\"14.00\" text-anchor=\"middle\" x=\"245.5\" y=\"-257.3\">(None, 512)</text>\n",
       "</g>\n",
       "<!-- 2343513667064&#45;&gt;2343513958272 -->\n",
       "<g class=\"edge\" id=\"edge5\"><title>2343513667064-&gt;2343513958272</title>\n",
       "<path d=\"M143.5,-332.366C143.5,-324.152 143.5,-314.658 143.5,-305.725\" fill=\"none\" stroke=\"black\"/>\n",
       "<polygon fill=\"black\" points=\"147,-305.607 143.5,-295.607 140,-305.607 147,-305.607\" stroke=\"black\"/>\n",
       "</g>\n",
       "<!-- 2343514170760 -->\n",
       "<g class=\"node\" id=\"node6\"><title>2343514170760</title>\n",
       "<polygon fill=\"none\" points=\"9,-166.5 9,-212.5 278,-212.5 278,-166.5 9,-166.5\" stroke=\"black\"/>\n",
       "<text font-family=\"Times New Roman,serif\" font-size=\"14.00\" text-anchor=\"middle\" x=\"74\" y=\"-185.8\">dropout_4: Dropout</text>\n",
       "<polyline fill=\"none\" points=\"139,-166.5 139,-212.5 \" stroke=\"black\"/>\n",
       "<text font-family=\"Times New Roman,serif\" font-size=\"14.00\" text-anchor=\"middle\" x=\"167\" y=\"-197.3\">input:</text>\n",
       "<polyline fill=\"none\" points=\"139,-189.5 195,-189.5 \" stroke=\"black\"/>\n",
       "<text font-family=\"Times New Roman,serif\" font-size=\"14.00\" text-anchor=\"middle\" x=\"167\" y=\"-174.3\">output:</text>\n",
       "<polyline fill=\"none\" points=\"195,-166.5 195,-212.5 \" stroke=\"black\"/>\n",
       "<text font-family=\"Times New Roman,serif\" font-size=\"14.00\" text-anchor=\"middle\" x=\"236.5\" y=\"-197.3\">(None, 512)</text>\n",
       "<polyline fill=\"none\" points=\"195,-189.5 278,-189.5 \" stroke=\"black\"/>\n",
       "<text font-family=\"Times New Roman,serif\" font-size=\"14.00\" text-anchor=\"middle\" x=\"236.5\" y=\"-174.3\">(None, 512)</text>\n",
       "</g>\n",
       "<!-- 2343513958272&#45;&gt;2343514170760 -->\n",
       "<g class=\"edge\" id=\"edge6\"><title>2343513958272-&gt;2343514170760</title>\n",
       "<path d=\"M143.5,-249.366C143.5,-241.152 143.5,-231.658 143.5,-222.725\" fill=\"none\" stroke=\"black\"/>\n",
       "<polygon fill=\"black\" points=\"147,-222.607 143.5,-212.607 140,-222.607 147,-222.607\" stroke=\"black\"/>\n",
       "</g>\n",
       "<!-- 2343548283984 -->\n",
       "<g class=\"node\" id=\"node7\"><title>2343548283984</title>\n",
       "<polygon fill=\"none\" points=\"22,-83.5 22,-129.5 265,-129.5 265,-83.5 22,-83.5\" stroke=\"black\"/>\n",
       "<text font-family=\"Times New Roman,serif\" font-size=\"14.00\" text-anchor=\"middle\" x=\"74\" y=\"-102.8\">dense_6: Dense</text>\n",
       "<polyline fill=\"none\" points=\"126,-83.5 126,-129.5 \" stroke=\"black\"/>\n",
       "<text font-family=\"Times New Roman,serif\" font-size=\"14.00\" text-anchor=\"middle\" x=\"154\" y=\"-114.3\">input:</text>\n",
       "<polyline fill=\"none\" points=\"126,-106.5 182,-106.5 \" stroke=\"black\"/>\n",
       "<text font-family=\"Times New Roman,serif\" font-size=\"14.00\" text-anchor=\"middle\" x=\"154\" y=\"-91.3\">output:</text>\n",
       "<polyline fill=\"none\" points=\"182,-83.5 182,-129.5 \" stroke=\"black\"/>\n",
       "<text font-family=\"Times New Roman,serif\" font-size=\"14.00\" text-anchor=\"middle\" x=\"223.5\" y=\"-114.3\">(None, 512)</text>\n",
       "<polyline fill=\"none\" points=\"182,-106.5 265,-106.5 \" stroke=\"black\"/>\n",
       "<text font-family=\"Times New Roman,serif\" font-size=\"14.00\" text-anchor=\"middle\" x=\"223.5\" y=\"-91.3\">(None, 10)</text>\n",
       "</g>\n",
       "<!-- 2343514170760&#45;&gt;2343548283984 -->\n",
       "<g class=\"edge\" id=\"edge7\"><title>2343514170760-&gt;2343548283984</title>\n",
       "<path d=\"M143.5,-166.366C143.5,-158.152 143.5,-148.658 143.5,-139.725\" fill=\"none\" stroke=\"black\"/>\n",
       "<polygon fill=\"black\" points=\"147,-139.607 143.5,-129.607 140,-139.607 147,-139.607\" stroke=\"black\"/>\n",
       "</g>\n",
       "<!-- 2343514170816 -->\n",
       "<g class=\"node\" id=\"node8\"><title>2343514170816</title>\n",
       "<polygon fill=\"none\" points=\"3,-0.5 3,-46.5 284,-46.5 284,-0.5 3,-0.5\" stroke=\"black\"/>\n",
       "<text font-family=\"Times New Roman,serif\" font-size=\"14.00\" text-anchor=\"middle\" x=\"77\" y=\"-19.8\">activation_6: Activation</text>\n",
       "<polyline fill=\"none\" points=\"151,-0.5 151,-46.5 \" stroke=\"black\"/>\n",
       "<text font-family=\"Times New Roman,serif\" font-size=\"14.00\" text-anchor=\"middle\" x=\"179\" y=\"-31.3\">input:</text>\n",
       "<polyline fill=\"none\" points=\"151,-23.5 207,-23.5 \" stroke=\"black\"/>\n",
       "<text font-family=\"Times New Roman,serif\" font-size=\"14.00\" text-anchor=\"middle\" x=\"179\" y=\"-8.3\">output:</text>\n",
       "<polyline fill=\"none\" points=\"207,-0.5 207,-46.5 \" stroke=\"black\"/>\n",
       "<text font-family=\"Times New Roman,serif\" font-size=\"14.00\" text-anchor=\"middle\" x=\"245.5\" y=\"-31.3\">(None, 10)</text>\n",
       "<polyline fill=\"none\" points=\"207,-23.5 284,-23.5 \" stroke=\"black\"/>\n",
       "<text font-family=\"Times New Roman,serif\" font-size=\"14.00\" text-anchor=\"middle\" x=\"245.5\" y=\"-8.3\">(None, 10)</text>\n",
       "</g>\n",
       "<!-- 2343548283984&#45;&gt;2343514170816 -->\n",
       "<g class=\"edge\" id=\"edge8\"><title>2343548283984-&gt;2343514170816</title>\n",
       "<path d=\"M143.5,-83.3664C143.5,-75.1516 143.5,-65.6579 143.5,-56.7252\" fill=\"none\" stroke=\"black\"/>\n",
       "<polygon fill=\"black\" points=\"147,-56.6068 143.5,-46.6068 140,-56.6069 147,-56.6068\" stroke=\"black\"/>\n",
       "</g>\n",
       "<!-- 2343513959672 -->\n",
       "<g class=\"node\" id=\"node9\"><title>2343513959672</title>\n",
       "<polygon fill=\"none\" points=\"91.5,-664.5 91.5,-700.5 195.5,-700.5 195.5,-664.5 91.5,-664.5\" stroke=\"black\"/>\n",
       "<text font-family=\"Times New Roman,serif\" font-size=\"14.00\" text-anchor=\"middle\" x=\"143.5\" y=\"-678.8\">2343513959672</text>\n",
       "</g>\n",
       "<!-- 2343513959672&#45;&gt;2343513959952 -->\n",
       "<g class=\"edge\" id=\"edge1\"><title>2343513959672-&gt;2343513959952</title>\n",
       "<path d=\"M143.5,-664.254C143.5,-656.363 143.5,-646.749 143.5,-637.602\" fill=\"none\" stroke=\"black\"/>\n",
       "<polygon fill=\"black\" points=\"147,-637.591 143.5,-627.591 140,-637.591 147,-637.591\" stroke=\"black\"/>\n",
       "</g>\n",
       "</g>\n",
       "</svg>"
      ],
      "text/plain": [
       "<IPython.core.display.SVG object>"
      ]
     },
     "execution_count": 58,
     "metadata": {},
     "output_type": "execute_result"
    }
   ],
   "source": [
    "from IPython.display import SVG\n",
    "from keras.utils.vis_utils import model_to_dot\n",
    "SVG(model_to_dot(model,show_shapes=True, show_layer_names=True,).create(prog='dot', format='svg'))"
   ]
  },
  {
   "cell_type": "markdown",
   "metadata": {
    "colab_type": "text",
    "id": "HbeKXbGIGNkn"
   },
   "source": [
    "## Compiling and Training the Model"
   ]
  },
  {
   "cell_type": "code",
   "execution_count": 59,
   "metadata": {
    "colab": {},
    "colab_type": "code",
    "id": "9qgGU9buGNkn",
    "outputId": "5fee396d-c681-4d0d-cf79-3dad7cb28a68"
   },
   "outputs": [
    {
     "name": "stdout",
     "output_type": "stream",
     "text": [
      "Train on 60000 samples, validate on 10000 samples\n",
      "Epoch 1/8\n",
      "60000/60000 [==============================] - 14s 241us/step - loss: 0.2501 - acc: 0.9255 - val_loss: 0.1070 - val_acc: 0.9668\n",
      "Epoch 2/8\n",
      "60000/60000 [==============================] - 14s 240us/step - loss: 0.1010 - acc: 0.9692 - val_loss: 0.0794 - val_acc: 0.9758\n",
      "Epoch 3/8\n",
      "60000/60000 [==============================] - 14s 225us/step - loss: 0.0704 - acc: 0.9772 - val_loss: 0.0720 - val_acc: 0.9790\n",
      "Epoch 4/8\n",
      "60000/60000 [==============================] - 14s 232us/step - loss: 0.0538 - acc: 0.9825 - val_loss: 0.0664 - val_acc: 0.9789\n",
      "Epoch 5/8\n",
      "60000/60000 [==============================] - 13s 217us/step - loss: 0.0473 - acc: 0.9848 - val_loss: 0.0798 - val_acc: 0.9766\n",
      "Epoch 6/8\n",
      "60000/60000 [==============================] - 14s 236us/step - loss: 0.0386 - acc: 0.9873 - val_loss: 0.0701 - val_acc: 0.9811\n",
      "Epoch 7/8\n",
      "60000/60000 [==============================] - 13s 213us/step - loss: 0.0351 - acc: 0.9882 - val_loss: 0.0635 - val_acc: 0.9825\n",
      "Epoch 8/8\n",
      "60000/60000 [==============================] - 13s 214us/step - loss: 0.0309 - acc: 0.9895 - val_loss: 0.0736 - val_acc: 0.9784\n"
     ]
    }
   ],
   "source": [
    "# compiling the sequential model\n",
    "model.compile(loss='categorical_crossentropy', \n",
    "              metrics=['accuracy'], \n",
    "              optimizer='adam')\n",
    "#We can start the training the model\n",
    "# training the model and saving metrics in history\n",
    "history = model.fit(X_train, Y_train,\n",
    "          batch_size=128, epochs=8,\n",
    "          #verbose=2,\n",
    "          validation_data=(X_test, Y_test))"
   ]
  },
  {
   "cell_type": "code",
   "execution_count": 60,
   "metadata": {},
   "outputs": [
    {
     "data": {
      "text/plain": [
       "'C:\\\\Users\\\\ramreddymyla\\\\Desktop\\\\rritec\\\\keras_mnist.h5'"
      ]
     },
     "execution_count": 60,
     "metadata": {},
     "output_type": "execute_result"
    }
   ],
   "source": [
    "# saving the model\n",
    "save_dir = \"C:\\\\Users\\\\ramreddymyla\\\\Desktop\\\\rritec\"\n",
    "model_name = 'keras_mnist.h5'\n",
    "model_path = os.path.join(save_dir, model_name)\n",
    "model_path"
   ]
  },
  {
   "cell_type": "code",
   "execution_count": 61,
   "metadata": {},
   "outputs": [
    {
     "name": "stdout",
     "output_type": "stream",
     "text": [
      "Saved trained model at C:\\Users\\ramreddymyla\\Desktop\\rritec\\keras_mnist.h5 \n"
     ]
    }
   ],
   "source": [
    "model.save(model_path)\n",
    "print('Saved trained model at %s ' % model_path)"
   ]
  },
  {
   "cell_type": "markdown",
   "metadata": {
    "colab_type": "text",
    "id": "OeB4IfweGNkn"
   },
   "source": [
    "### Observe metrics accuracy and loss"
   ]
  },
  {
   "cell_type": "code",
   "execution_count": 62,
   "metadata": {
    "colab": {},
    "colab_type": "code",
    "id": "fXVnpGFJGNkn",
    "outputId": "60e4be48-fee7-4380-af12-3c73fc804bbe"
   },
   "outputs": [
    {
     "data": {
      "image/png": "[encoded data removed]",
      "text/plain": [
       "<Figure size 432x288 with 2 Axes>"
      ]
     },
     "metadata": {
      "needs_background": "light"
     },
     "output_type": "display_data"
    }
   ],
   "source": [
    "# plotting the metrics\n",
    "#fig = plt.figure()\n",
    "plt.subplot(2,1,1)\n",
    "plt.plot(history.history['acc'])\n",
    "plt.plot(history.history['val_acc'])\n",
    "plt.title('model accuracy')\n",
    "plt.ylabel('accuracy')\n",
    "plt.xlabel('epoch')\n",
    "plt.legend(['train', 'test'], loc='lower right')\n",
    "plt.subplot(2,1,2)\n",
    "plt.plot(history.history['loss'])\n",
    "plt.plot(history.history['val_loss'])\n",
    "plt.title('model loss')\n",
    "plt.ylabel('loss')\n",
    "plt.xlabel('epoch')\n",
    "plt.legend(['train', 'test'], loc='upper right')\n",
    "plt.tight_layout()\n",
    "#fig"
   ]
  },
  {
   "cell_type": "markdown",
   "metadata": {
    "colab_type": "text",
    "id": "oCujYlAPGNkn"
   },
   "source": [
    "- Note: This learning curve looks quite **good!** We see that the loss on the training set is decreasing rapidly for the first two epochs. This shows the network is learning to classify the digits pretty fast. For the test set the loss does not decrease as fast but stays roughly within the same range as the training loss. This means our model generalizes well to unseen data."
   ]
  },
  {
   "cell_type": "markdown",
   "metadata": {
    "colab_type": "text",
    "id": "jZj9Mmu-GNkn"
   },
   "source": [
    "## Evaluate the Model Performance"
   ]
  },
  {
   "cell_type": "code",
   "execution_count": 63,
   "metadata": {
    "colab": {},
    "colab_type": "code",
    "id": "lL-XbF6vGNkn",
    "outputId": "8b41d704-2688-4a3c-8121-eadcb77e98a1"
   },
   "outputs": [
    {
     "name": "stdout",
     "output_type": "stream",
     "text": [
      "Test Loss 0.07355138200080401\n",
      "Test Accuracy 0.9784\n"
     ]
    }
   ],
   "source": [
    "mnist_model = load_model(model_path)\n",
    "loss_and_metrics = mnist_model.evaluate(X_test, Y_test, verbose=2)\n",
    "\n",
    "print(\"Test Loss\", loss_and_metrics[0])\n",
    "print(\"Test Accuracy\", loss_and_metrics[1])\n",
    "#it is nothin but epoch 10values: val_loss: 0.0653 - val_acc: 0.9819"
   ]
  },
  {
   "cell_type": "code",
   "execution_count": 64,
   "metadata": {},
   "outputs": [
    {
     "data": {
      "text/plain": [
       "array([7, 2, 1, ..., 4, 5, 6], dtype=uint8)"
      ]
     },
     "execution_count": 64,
     "metadata": {},
     "output_type": "execute_result"
    }
   ],
   "source": [
    "y_test"
   ]
  },
  {
   "cell_type": "code",
   "execution_count": 65,
   "metadata": {
    "colab": {},
    "colab_type": "code",
    "id": "FyNprmAwGNkn",
    "outputId": "28fcb8b5-7c1f-43d8-9031-066e31102ec1"
   },
   "outputs": [
    {
     "name": "stdout",
     "output_type": "stream",
     "text": [
      "\n",
      "9784  classified correctly\n",
      "216  classified incorrectly\n"
     ]
    }
   ],
   "source": [
    "# load the model and create predictions on the test set\n",
    "mnist_model = load_model(model_path)\n",
    "predicted_classes = mnist_model.predict_classes(X_test)\n",
    "\n",
    "# see which we predicted correctly and which not\n",
    "correct_indices = np.nonzero(predicted_classes == y_test)[0]\n",
    "incorrect_indices = np.nonzero(predicted_classes != y_test)[0]\n",
    "print()\n",
    "print(len(correct_indices),\" classified correctly\")\n",
    "print(len(incorrect_indices),\" classified incorrectly\")"
   ]
  },
  {
   "cell_type": "code",
   "execution_count": 66,
   "metadata": {
    "colab": {},
    "colab_type": "code",
    "id": "NWEOUUhaGNk3",
    "outputId": "c27182b4-3167-4e3a-ef90-252750bfbe8f"
   },
   "outputs": [
    {
     "data": {
      "image/png": "[encoded data removed]",
      "text/plain": [
       "<Figure size 432x288 with 9 Axes>"
      ]
     },
     "metadata": {},
     "output_type": "display_data"
    }
   ],
   "source": [
    "# plot 9 correct predictions\n",
    "#fig = plt.figure()\n",
    "for i, correct in enumerate(correct_indices[:9]):\n",
    "    plt.subplot(6,3,i+1)\n",
    "    plt.imshow(X_test[correct].reshape(28,28), cmap='gray', interpolation='none')\n",
    "    plt.title(\"Predicted {}, Class {}\".format(predicted_classes[correct], y_test[correct]))\n",
    "    plt.xticks([])\n",
    "    plt.yticks([])\n",
    "#fig"
   ]
  },
  {
   "cell_type": "code",
   "execution_count": 67,
   "metadata": {
    "colab": {},
    "colab_type": "code",
    "id": "FaatUrUgGNk3",
    "outputId": "f15dc213-8174-48dd-fb2e-240617599f0d"
   },
   "outputs": [
    {
     "data": {
      "image/png": "[encoded data removed]",
      "text/plain": [
       "<Figure size 432x288 with 9 Axes>"
      ]
     },
     "metadata": {},
     "output_type": "display_data"
    }
   ],
   "source": [
    "# plot 9 incorrect predictions\n",
    "#fig = plt.figure()\n",
    "for i, incorrect in enumerate(incorrect_indices[:9]):\n",
    "    plt.subplot(6,3,i+10)\n",
    "    plt.imshow(X_test[incorrect].reshape(28,28), cmap='gray', interpolation='none')\n",
    "    plt.title(\"Predicted {}, Class {}\".format(predicted_classes[incorrect], y_test[incorrect]))\n",
    "    plt.xticks([])\n",
    "    plt.yticks([])\n",
    "\n",
    "#fig"
   ]
  },
  {
   "cell_type": "code",
   "execution_count": null,
   "metadata": {},
   "outputs": [],
   "source": []
  }
 ],
 "metadata": {
  "colab": {
   "name": "Project1_Identify_hand_written_digits.ipynb",
   "provenance": [],
   "version": "0.3.2"
  },
  "kernelspec": {
   "display_name": "Python 3",
   "language": "python",
   "name": "python3"
  },
  "language_info": {
   "codemirror_mode": {
    "name": "ipython",
    "version": 3
   },
   "file_extension": ".py",
   "mimetype": "text/x-python",
   "name": "python",
   "nbconvert_exporter": "python",
   "pygments_lexer": "ipython3",
   "version": "3.6.9"
  },
  "toc-autonumbering": true
 },
 "nbformat": 4,
 "nbformat_minor": 4
}
